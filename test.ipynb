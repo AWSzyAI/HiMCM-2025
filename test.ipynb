{
 "cells": [
  {
   "cell_type": "code",
   "execution_count": 5,
   "id": "91c03ea0",
   "metadata": {},
   "outputs": [],
   "source": [
    "from src.glm_api import send_messages"
   ]
  },
  {
   "cell_type": "code",
   "execution_count": null,
   "id": "7d248dbe",
   "metadata": {},
   "outputs": [],
   "source": [
    "messages = [\n",
    "    {\"role\": \"system\", \"content\": \"You are a helpful assistant.\"},\n",
    "    {\"role\": \"user\", \"content\": \"介绍一下数学建模的学习路径。\"}\n",
    "]\n",
    "response = send_messages(messages, stream=True)"
   ]
  },
  {
   "cell_type": "markdown",
   "id": "594d43f9",
   "metadata": {},
   "source": [
    "\\begin{equation}\n",
    "    \\mathcal{E}_c = \\phi_c(P_c^{\\text{Top500}})\n",
    "\\end{equation}"
   ]
  },
  {
   "cell_type": "code",
   "execution_count": 2,
   "id": "38136025",
   "metadata": {},
   "outputs": [],
   "source": [
    "import torch"
   ]
  },
  {
   "cell_type": "markdown",
   "id": "ba2484ce",
   "metadata": {},
   "source": [
    "# 一、整数规划与非线性规划\n",
    "## 1. 整数规划\n",
    "### 1.1 整数变量，cvxpy\n",
    "求解下列整数线性规划问题:\n",
    "\n",
    "$$\n",
    "\\begin{array}{ll}\n",
    "\\min & z=40 x_{1}+90 x_{2}, \\\\\n",
    "\\text { s.t. } & \\left\\{\\begin{array}{l}\n",
    "9 x_{1}+7 x_{2} \\leqslant 56, \\\\\n",
    "7 x_{1}+20 x_{2} \\geqslant 70, \\\\\n",
    "x_{1}, x_{2} \\geqslant 0 \\text { 为整数. }\n",
    "\\end{array}\\right.\n",
    "\\end{array}\n",
    "$$\n"
   ]
  },
  {
   "cell_type": "code",
   "execution_count": 5,
   "id": "9e2164ae",
   "metadata": {},
   "outputs": [
    {
     "ename": "SolverError",
     "evalue": "The solver GLPK_MI is not installed.",
     "output_type": "error",
     "traceback": [
      "\u001b[31m---------------------------------------------------------------------------\u001b[39m",
      "\u001b[31mSolverError\u001b[39m                               Traceback (most recent call last)",
      "\u001b[36mCell\u001b[39m\u001b[36m \u001b[39m\u001b[32mIn[5]\u001b[39m\u001b[32m, line 11\u001b[39m\n\u001b[32m      9\u001b[39m cons = [a\u001b[38;5;129m@x\u001b[39m <= b, x >= \u001b[32m0\u001b[39m]\n\u001b[32m     10\u001b[39m prob = cp.Problem(obj, cons)\n\u001b[32m---> \u001b[39m\u001b[32m11\u001b[39m \u001b[43mprob\u001b[49m\u001b[43m.\u001b[49m\u001b[43msolve\u001b[49m\u001b[43m(\u001b[49m\u001b[43msolver\u001b[49m\u001b[43m=\u001b[49m\u001b[33;43m'\u001b[39;49m\u001b[33;43mGLPK_MI\u001b[39;49m\u001b[33;43m'\u001b[39;49m\u001b[43m)\u001b[49m\n\u001b[32m     12\u001b[39m \u001b[38;5;28mprint\u001b[39m(\u001b[33m\"\u001b[39m\u001b[33m最优值为：\u001b[39m\u001b[33m\"\u001b[39m, prob.value)\n\u001b[32m     13\u001b[39m \u001b[38;5;28mprint\u001b[39m(\u001b[33m\"\u001b[39m\u001b[33m最优解为：\u001b[39m\u001b[38;5;130;01m\\n\u001b[39;00m\u001b[33m\"\u001b[39m, x.value)\n",
      "\u001b[36mFile \u001b[39m\u001b[32m~/anaconda3/envs/HiMCM/lib/python3.12/site-packages/cvxpy/problems/problem.py:609\u001b[39m, in \u001b[36mProblem.solve\u001b[39m\u001b[34m(self, *args, **kwargs)\u001b[39m\n\u001b[32m    606\u001b[39m         \u001b[38;5;28;01mraise\u001b[39;00m \u001b[38;5;167;01mValueError\u001b[39;00m(\n\u001b[32m    607\u001b[39m             \u001b[33m\"\u001b[39m\u001b[33mCannot specify both \u001b[39m\u001b[33m'\u001b[39m\u001b[33msolver\u001b[39m\u001b[33m'\u001b[39m\u001b[33m and \u001b[39m\u001b[33m'\u001b[39m\u001b[33msolver_path\u001b[39m\u001b[33m'\u001b[39m\u001b[33m. Please choose one.\u001b[39m\u001b[33m\"\u001b[39m)\n\u001b[32m    608\u001b[39m     \u001b[38;5;28;01mreturn\u001b[39;00m \u001b[38;5;28mself\u001b[39m._solve_solver_path(solve_func,solver_path, args, kwargs)\n\u001b[32m--> \u001b[39m\u001b[32m609\u001b[39m \u001b[38;5;28;01mreturn\u001b[39;00m \u001b[43msolve_func\u001b[49m\u001b[43m(\u001b[49m\u001b[38;5;28;43mself\u001b[39;49m\u001b[43m,\u001b[49m\u001b[43m \u001b[49m\u001b[43m*\u001b[49m\u001b[43margs\u001b[49m\u001b[43m,\u001b[49m\u001b[43m \u001b[49m\u001b[43m*\u001b[49m\u001b[43m*\u001b[49m\u001b[43mkwargs\u001b[49m\u001b[43m)\u001b[49m\n",
      "\u001b[36mFile \u001b[39m\u001b[32m~/anaconda3/envs/HiMCM/lib/python3.12/site-packages/cvxpy/problems/problem.py:1191\u001b[39m, in \u001b[36mProblem._solve\u001b[39m\u001b[34m(self, solver, warm_start, verbose, bibtex, gp, qcp, requires_grad, enforce_dpp, ignore_dpp, canon_backend, **kwargs)\u001b[39m\n\u001b[32m   1188\u001b[39m         \u001b[38;5;28mself\u001b[39m.unpack(chain.retrieve(soln))\n\u001b[32m   1189\u001b[39m         \u001b[38;5;28;01mreturn\u001b[39;00m \u001b[38;5;28mself\u001b[39m.value\n\u001b[32m-> \u001b[39m\u001b[32m1191\u001b[39m data, solving_chain, inverse_data = \u001b[38;5;28;43mself\u001b[39;49m\u001b[43m.\u001b[49m\u001b[43mget_problem_data\u001b[49m\u001b[43m(\u001b[49m\n\u001b[32m   1192\u001b[39m \u001b[43m    \u001b[49m\u001b[43msolver\u001b[49m\u001b[43m,\u001b[49m\u001b[43m \u001b[49m\u001b[43mgp\u001b[49m\u001b[43m,\u001b[49m\u001b[43m \u001b[49m\u001b[43menforce_dpp\u001b[49m\u001b[43m,\u001b[49m\u001b[43m \u001b[49m\u001b[43mignore_dpp\u001b[49m\u001b[43m,\u001b[49m\u001b[43m \u001b[49m\u001b[43mverbose\u001b[49m\u001b[43m,\u001b[49m\u001b[43m \u001b[49m\u001b[43mcanon_backend\u001b[49m\u001b[43m,\u001b[49m\u001b[43m \u001b[49m\u001b[43mkwargs\u001b[49m\n\u001b[32m   1193\u001b[39m \u001b[43m\u001b[49m\u001b[43m)\u001b[49m\n\u001b[32m   1195\u001b[39m \u001b[38;5;28;01mif\u001b[39;00m verbose:\n\u001b[32m   1196\u001b[39m     \u001b[38;5;28mprint\u001b[39m(_NUM_SOLVER_STR)\n",
      "\u001b[36mFile \u001b[39m\u001b[32m~/anaconda3/envs/HiMCM/lib/python3.12/site-packages/cvxpy/problems/problem.py:755\u001b[39m, in \u001b[36mProblem.get_problem_data\u001b[39m\u001b[34m(self, solver, gp, enforce_dpp, ignore_dpp, verbose, canon_backend, solver_opts)\u001b[39m\n\u001b[32m    753\u001b[39m \u001b[38;5;28;01mif\u001b[39;00m key != \u001b[38;5;28mself\u001b[39m._cache.key:\n\u001b[32m    754\u001b[39m     \u001b[38;5;28mself\u001b[39m._cache.invalidate()\n\u001b[32m--> \u001b[39m\u001b[32m755\u001b[39m     solving_chain = \u001b[38;5;28;43mself\u001b[39;49m\u001b[43m.\u001b[49m\u001b[43m_construct_chain\u001b[49m\u001b[43m(\u001b[49m\n\u001b[32m    756\u001b[39m \u001b[43m        \u001b[49m\u001b[43msolver\u001b[49m\u001b[43m=\u001b[49m\u001b[43msolver\u001b[49m\u001b[43m,\u001b[49m\u001b[43m \u001b[49m\u001b[43mgp\u001b[49m\u001b[43m=\u001b[49m\u001b[43mgp\u001b[49m\u001b[43m,\u001b[49m\n\u001b[32m    757\u001b[39m \u001b[43m        \u001b[49m\u001b[43menforce_dpp\u001b[49m\u001b[43m=\u001b[49m\u001b[43menforce_dpp\u001b[49m\u001b[43m,\u001b[49m\n\u001b[32m    758\u001b[39m \u001b[43m        \u001b[49m\u001b[43mignore_dpp\u001b[49m\u001b[43m=\u001b[49m\u001b[43mignore_dpp\u001b[49m\u001b[43m,\u001b[49m\n\u001b[32m    759\u001b[39m \u001b[43m        \u001b[49m\u001b[43mcanon_backend\u001b[49m\u001b[43m=\u001b[49m\u001b[43mcanon_backend\u001b[49m\u001b[43m,\u001b[49m\n\u001b[32m    760\u001b[39m \u001b[43m        \u001b[49m\u001b[43msolver_opts\u001b[49m\u001b[43m=\u001b[49m\u001b[43msolver_opts\u001b[49m\u001b[43m)\u001b[49m\n\u001b[32m    761\u001b[39m     \u001b[38;5;28mself\u001b[39m._cache.key = key\n\u001b[32m    762\u001b[39m     \u001b[38;5;28mself\u001b[39m._cache.solving_chain = solving_chain\n",
      "\u001b[36mFile \u001b[39m\u001b[32m~/anaconda3/envs/HiMCM/lib/python3.12/site-packages/cvxpy/problems/problem.py:1007\u001b[39m, in \u001b[36mProblem._construct_chain\u001b[39m\u001b[34m(self, solver, gp, enforce_dpp, ignore_dpp, canon_backend, solver_opts)\u001b[39m\n\u001b[32m    965\u001b[39m \u001b[38;5;28;01mdef\u001b[39;00m\u001b[38;5;250m \u001b[39m\u001b[34m_construct_chain\u001b[39m(\n\u001b[32m    966\u001b[39m         \u001b[38;5;28mself\u001b[39m,\n\u001b[32m    967\u001b[39m         solver: Optional[\u001b[38;5;28mstr\u001b[39m] = \u001b[38;5;28;01mNone\u001b[39;00m,\n\u001b[32m   (...)\u001b[39m\u001b[32m    972\u001b[39m         solver_opts: Optional[\u001b[38;5;28mdict\u001b[39m] = \u001b[38;5;28;01mNone\u001b[39;00m\n\u001b[32m    973\u001b[39m ) -> SolvingChain:\n\u001b[32m    974\u001b[39m \u001b[38;5;250m    \u001b[39m\u001b[33;03m\"\"\"\u001b[39;00m\n\u001b[32m    975\u001b[39m \u001b[33;03m    Construct the chains required to reformulate and solve the problem.\u001b[39;00m\n\u001b[32m    976\u001b[39m \n\u001b[32m   (...)\u001b[39m\u001b[32m   1005\u001b[39m \u001b[33;03m    A solving chain\u001b[39;00m\n\u001b[32m   1006\u001b[39m \u001b[33;03m    \"\"\"\u001b[39;00m\n\u001b[32m-> \u001b[39m\u001b[32m1007\u001b[39m     candidate_solvers = \u001b[38;5;28;43mself\u001b[39;49m\u001b[43m.\u001b[49m\u001b[43m_find_candidate_solvers\u001b[49m\u001b[43m(\u001b[49m\u001b[43msolver\u001b[49m\u001b[43m=\u001b[49m\u001b[43msolver\u001b[49m\u001b[43m,\u001b[49m\u001b[43m \u001b[49m\u001b[43mgp\u001b[49m\u001b[43m=\u001b[49m\u001b[43mgp\u001b[49m\u001b[43m)\u001b[49m\n\u001b[32m   1008\u001b[39m     \u001b[38;5;28mself\u001b[39m._sort_candidate_solvers(candidate_solvers)\n\u001b[32m   1009\u001b[39m     \u001b[38;5;28;01mreturn\u001b[39;00m construct_solving_chain(\u001b[38;5;28mself\u001b[39m, candidate_solvers, gp=gp,\n\u001b[32m   1010\u001b[39m                                    enforce_dpp=enforce_dpp,\n\u001b[32m   1011\u001b[39m                                    ignore_dpp=ignore_dpp,\n\u001b[32m   1012\u001b[39m                                    canon_backend=canon_backend,\n\u001b[32m   1013\u001b[39m                                    solver_opts=solver_opts,\n\u001b[32m   1014\u001b[39m                                    specified_solver=solver)\n",
      "\u001b[36mFile \u001b[39m\u001b[32m~/anaconda3/envs/HiMCM/lib/python3.12/site-packages/cvxpy/problems/problem.py:870\u001b[39m, in \u001b[36mProblem._find_candidate_solvers\u001b[39m\u001b[34m(self, solver, gp)\u001b[39m\n\u001b[32m    868\u001b[39m \u001b[38;5;28;01mif\u001b[39;00m solver \u001b[38;5;129;01mis\u001b[39;00m \u001b[38;5;129;01mnot\u001b[39;00m \u001b[38;5;28;01mNone\u001b[39;00m:\n\u001b[32m    869\u001b[39m     \u001b[38;5;28;01mif\u001b[39;00m solver \u001b[38;5;129;01mnot\u001b[39;00m \u001b[38;5;129;01min\u001b[39;00m slv_def.INSTALLED_SOLVERS:\n\u001b[32m--> \u001b[39m\u001b[32m870\u001b[39m         \u001b[38;5;28;01mraise\u001b[39;00m error.SolverError(\u001b[33m\"\u001b[39m\u001b[33mThe solver \u001b[39m\u001b[38;5;132;01m%s\u001b[39;00m\u001b[33m is not installed.\u001b[39m\u001b[33m\"\u001b[39m % solver)\n\u001b[32m    871\u001b[39m     \u001b[38;5;28;01mif\u001b[39;00m solver \u001b[38;5;129;01min\u001b[39;00m slv_def.CONIC_SOLVERS:\n\u001b[32m    872\u001b[39m         candidates[\u001b[33m'\u001b[39m\u001b[33mconic_solvers\u001b[39m\u001b[33m'\u001b[39m] += [solver]\n",
      "\u001b[31mSolverError\u001b[39m: The solver GLPK_MI is not installed."
     ]
    }
   ],
   "source": [
    "import cvxpy as cp\n",
    "import numpy as np\n",
    "\n",
    "c = np.array([40, 90])\n",
    "a = np.array([[9, 7], [-7, -20]])\n",
    "b = np.array([56, -70])\n",
    "x = cp.Variable(2, integer=True)\n",
    "obj = cp.Minimize(c@x)\n",
    "cons = [a@x <= b, x >= 0]\n",
    "prob = cp.Problem(obj, cons)\n",
    "prob.solve(solver='GLPK_MI')\n",
    "print(\"最优值为：\", prob.value)\n",
    "print(\"最优解为：\\n\", x.value)\n",
    "\n",
    "# Use '*' for matrix-scalar and vector-scalar multiplication.\n",
    "# Use '@' for matrix-matrix and matrix-vector multiplication.\n",
    "# Use 'multiply' for elementwise multiplication."
   ]
  },
  {
   "cell_type": "code",
   "execution_count": null,
   "id": "6fa7dc2e",
   "metadata": {},
   "outputs": [
    {
     "name": "stdout",
     "output_type": "stream",
     "text": [
      "Requirement already satisfied: cvxpy[CBC,CVXOPT,GLOP,GLPK,GUROBI,MOSEK,PDLP,SCIP,XPRESS] in /home/szy/anaconda3/envs/HiMCM/lib/python3.12/site-packages (1.7.3)\n",
      "Requirement already satisfied: osqp>=1.0.0 in /home/szy/anaconda3/envs/HiMCM/lib/python3.12/site-packages (from cvxpy[CBC,CVXOPT,GLOP,GLPK,GUROBI,MOSEK,PDLP,SCIP,XPRESS]) (1.0.4)\n",
      "Requirement already satisfied: clarabel>=0.5.0 in /home/szy/anaconda3/envs/HiMCM/lib/python3.12/site-packages (from cvxpy[CBC,CVXOPT,GLOP,GLPK,GUROBI,MOSEK,PDLP,SCIP,XPRESS]) (0.11.1)\n",
      "Requirement already satisfied: scs>=3.2.4.post1 in /home/szy/anaconda3/envs/HiMCM/lib/python3.12/site-packages (from cvxpy[CBC,CVXOPT,GLOP,GLPK,GUROBI,MOSEK,PDLP,SCIP,XPRESS]) (3.2.8)\n",
      "Requirement already satisfied: numpy>=1.22.4 in /home/szy/anaconda3/envs/HiMCM/lib/python3.12/site-packages (from cvxpy[CBC,CVXOPT,GLOP,GLPK,GUROBI,MOSEK,PDLP,SCIP,XPRESS]) (2.3.3)\n",
      "Requirement already satisfied: scipy>=1.13.0 in /home/szy/anaconda3/envs/HiMCM/lib/python3.12/site-packages (from cvxpy[CBC,CVXOPT,GLOP,GLPK,GUROBI,MOSEK,PDLP,SCIP,XPRESS]) (1.16.2)\n",
      "Collecting cylp>=0.91.5 (from cvxpy[CBC,CVXOPT,GLOP,GLPK,GUROBI,MOSEK,PDLP,SCIP,XPRESS])\n",
      "  Downloading cylp-0.93.1-cp312-cp312-manylinux_2_24_x86_64.manylinux_2_28_x86_64.whl.metadata (8.1 kB)\n",
      "Collecting cvxopt (from cvxpy[CBC,CVXOPT,GLOP,GLPK,GUROBI,MOSEK,PDLP,SCIP,XPRESS])\n",
      "  Downloading cvxopt-1.3.2-cp312-cp312-manylinux_2_17_x86_64.manylinux2014_x86_64.whl.metadata (1.3 kB)\n",
      "Collecting ortools<9.15,>=9.7 (from cvxpy[CBC,CVXOPT,GLOP,GLPK,GUROBI,MOSEK,PDLP,SCIP,XPRESS])\n",
      "  Downloading ortools-9.14.6206-cp312-cp312-manylinux_2_27_x86_64.manylinux_2_28_x86_64.whl.metadata (3.3 kB)\n",
      "Collecting gurobipy (from cvxpy[CBC,CVXOPT,GLOP,GLPK,GUROBI,MOSEK,PDLP,SCIP,XPRESS])\n",
      "  Downloading gurobipy-12.0.3-cp312-cp312-manylinux2014_x86_64.manylinux_2_17_x86_64.whl.metadata (16 kB)\n",
      "Collecting Mosek (from cvxpy[CBC,CVXOPT,GLOP,GLPK,GUROBI,MOSEK,PDLP,SCIP,XPRESS])\n",
      "  Downloading mosek-11.0.29-cp39-abi3-manylinux2014_x86_64.whl.metadata (698 bytes)\n",
      "Collecting PySCIPOpt (from cvxpy[CBC,CVXOPT,GLOP,GLPK,GUROBI,MOSEK,PDLP,SCIP,XPRESS])\n",
      "  Downloading pyscipopt-5.6.0-cp312-cp312-manylinux_2_28_x86_64.whl.metadata (6.5 kB)\n",
      "Collecting xpress>=9.5 (from cvxpy[CBC,CVXOPT,GLOP,GLPK,GUROBI,MOSEK,PDLP,SCIP,XPRESS])\n",
      "  Downloading xpress-9.7.0-cp312-cp312-manylinux1_x86_64.whl.metadata (5.5 kB)\n",
      "Collecting absl-py>=2.0.0 (from ortools<9.15,>=9.7->cvxpy[CBC,CVXOPT,GLOP,GLPK,GUROBI,MOSEK,PDLP,SCIP,XPRESS])\n",
      "  Using cached absl_py-2.3.1-py3-none-any.whl.metadata (3.3 kB)\n",
      "Collecting pandas>=2.0.0 (from ortools<9.15,>=9.7->cvxpy[CBC,CVXOPT,GLOP,GLPK,GUROBI,MOSEK,PDLP,SCIP,XPRESS])\n",
      "  Downloading pandas-2.3.3-cp312-cp312-manylinux_2_24_x86_64.manylinux_2_28_x86_64.whl.metadata (91 kB)\n",
      "Collecting protobuf<6.32,>=6.31.1 (from ortools<9.15,>=9.7->cvxpy[CBC,CVXOPT,GLOP,GLPK,GUROBI,MOSEK,PDLP,SCIP,XPRESS])\n",
      "  Using cached protobuf-6.31.1-cp39-abi3-manylinux2014_x86_64.whl.metadata (593 bytes)\n",
      "Requirement already satisfied: typing-extensions>=4.12 in /home/szy/anaconda3/envs/HiMCM/lib/python3.12/site-packages (from ortools<9.15,>=9.7->cvxpy[CBC,CVXOPT,GLOP,GLPK,GUROBI,MOSEK,PDLP,SCIP,XPRESS]) (4.15.0)\n",
      "Collecting immutabledict>=3.0.0 (from ortools<9.15,>=9.7->cvxpy[CBC,CVXOPT,GLOP,GLPK,GUROBI,MOSEK,PDLP,SCIP,XPRESS])\n",
      "  Using cached immutabledict-4.2.1-py3-none-any.whl.metadata (3.5 kB)\n",
      "Requirement already satisfied: cffi in /home/szy/anaconda3/envs/HiMCM/lib/python3.12/site-packages (from clarabel>=0.5.0->cvxpy[CBC,CVXOPT,GLOP,GLPK,GUROBI,MOSEK,PDLP,SCIP,XPRESS]) (2.0.0)\n",
      "Requirement already satisfied: jinja2 in /home/szy/anaconda3/envs/HiMCM/lib/python3.12/site-packages (from osqp>=1.0.0->cvxpy[CBC,CVXOPT,GLOP,GLPK,GUROBI,MOSEK,PDLP,SCIP,XPRESS]) (3.1.6)\n",
      "Requirement already satisfied: setuptools in /home/szy/anaconda3/envs/HiMCM/lib/python3.12/site-packages (from osqp>=1.0.0->cvxpy[CBC,CVXOPT,GLOP,GLPK,GUROBI,MOSEK,PDLP,SCIP,XPRESS]) (78.1.1)\n",
      "Requirement already satisfied: joblib in /home/szy/anaconda3/envs/HiMCM/lib/python3.12/site-packages (from osqp>=1.0.0->cvxpy[CBC,CVXOPT,GLOP,GLPK,GUROBI,MOSEK,PDLP,SCIP,XPRESS]) (1.5.2)\n",
      "Requirement already satisfied: python-dateutil>=2.8.2 in /home/szy/anaconda3/envs/HiMCM/lib/python3.12/site-packages (from pandas>=2.0.0->ortools<9.15,>=9.7->cvxpy[CBC,CVXOPT,GLOP,GLPK,GUROBI,MOSEK,PDLP,SCIP,XPRESS]) (2.9.0.post0)\n",
      "Collecting pytz>=2020.1 (from pandas>=2.0.0->ortools<9.15,>=9.7->cvxpy[CBC,CVXOPT,GLOP,GLPK,GUROBI,MOSEK,PDLP,SCIP,XPRESS])\n",
      "  Using cached pytz-2025.2-py2.py3-none-any.whl.metadata (22 kB)\n",
      "Collecting tzdata>=2022.7 (from pandas>=2.0.0->ortools<9.15,>=9.7->cvxpy[CBC,CVXOPT,GLOP,GLPK,GUROBI,MOSEK,PDLP,SCIP,XPRESS])\n",
      "  Using cached tzdata-2025.2-py2.py3-none-any.whl.metadata (1.4 kB)\n",
      "Requirement already satisfied: six>=1.5 in /home/szy/anaconda3/envs/HiMCM/lib/python3.12/site-packages (from python-dateutil>=2.8.2->pandas>=2.0.0->ortools<9.15,>=9.7->cvxpy[CBC,CVXOPT,GLOP,GLPK,GUROBI,MOSEK,PDLP,SCIP,XPRESS]) (1.17.0)\n",
      "Collecting xpresslibs==9.7.0 (from xpress>=9.5->cvxpy[CBC,CVXOPT,GLOP,GLPK,GUROBI,MOSEK,PDLP,SCIP,XPRESS])\n",
      "  Downloading xpresslibs-9.7.0-cp38-abi3-manylinux1_x86_64.whl.metadata (5.1 kB)\n",
      "Requirement already satisfied: pycparser in /home/szy/anaconda3/envs/HiMCM/lib/python3.12/site-packages (from cffi->clarabel>=0.5.0->cvxpy[CBC,CVXOPT,GLOP,GLPK,GUROBI,MOSEK,PDLP,SCIP,XPRESS]) (2.23)\n",
      "Requirement already satisfied: MarkupSafe>=2.0 in /home/szy/anaconda3/envs/HiMCM/lib/python3.12/site-packages (from jinja2->osqp>=1.0.0->cvxpy[CBC,CVXOPT,GLOP,GLPK,GUROBI,MOSEK,PDLP,SCIP,XPRESS]) (3.0.2)\n",
      "Downloading ortools-9.14.6206-cp312-cp312-manylinux_2_27_x86_64.manylinux_2_28_x86_64.whl (27.7 MB)\n",
      "\u001b[2K   \u001b[90m━━━━━━━━━━━━━━━━━━━━━━━━━━━━━━━━━━━━━━━━\u001b[0m \u001b[32m27.7/27.7 MB\u001b[0m \u001b[31m6.6 MB/s\u001b[0m  \u001b[33m0:00:04\u001b[0mm0:00:01\u001b[0m00:01\u001b[0m\n",
      "\u001b[?25hUsing cached protobuf-6.31.1-cp39-abi3-manylinux2014_x86_64.whl (321 kB)\n",
      "Using cached absl_py-2.3.1-py3-none-any.whl (135 kB)\n",
      "Downloading cylp-0.93.1-cp312-cp312-manylinux_2_24_x86_64.manylinux_2_28_x86_64.whl (11.1 MB)\n",
      "\u001b[2K   \u001b[90m━━━━━━━━━━━━━━━━━━━━━━━━━━━━━━━━━━━━━━━━\u001b[0m \u001b[32m11.1/11.1 MB\u001b[0m \u001b[31m6.3 MB/s\u001b[0m  \u001b[33m0:00:01\u001b[0m eta \u001b[36m0:00:01\u001b[0m\n",
      "\u001b[?25hUsing cached immutabledict-4.2.1-py3-none-any.whl (4.7 kB)\n",
      "Downloading pandas-2.3.3-cp312-cp312-manylinux_2_24_x86_64.manylinux_2_28_x86_64.whl (12.4 MB)\n",
      "\u001b[2K   \u001b[90m━━━━━━━━━━━━━━━━━━━━━━━━━━━━━━━━━━━━━━━━\u001b[0m \u001b[32m12.4/12.4 MB\u001b[0m \u001b[31m7.4 MB/s\u001b[0m  \u001b[33m0:00:01\u001b[0mm0:00:01\u001b[0m00:01\u001b[0m\n",
      "\u001b[?25hUsing cached pytz-2025.2-py2.py3-none-any.whl (509 kB)\n",
      "Using cached tzdata-2025.2-py2.py3-none-any.whl (347 kB)\n",
      "Downloading xpress-9.7.0-cp312-cp312-manylinux1_x86_64.whl (2.8 MB)\n",
      "\u001b[2K   \u001b[90m━━━━━━━━━━━━━━━━━━━━━━━━━━━━━━━━━━━━━━━━\u001b[0m \u001b[32m2.8/2.8 MB\u001b[0m \u001b[31m7.5 MB/s\u001b[0m  \u001b[33m0:00:00\u001b[0m eta \u001b[36m0:00:01\u001b[0m\n",
      "\u001b[?25hDownloading xpresslibs-9.7.0-cp38-abi3-manylinux1_x86_64.whl (60.0 MB)\n",
      "\u001b[2K   \u001b[90m━━━━━━━━━━━━━━━━━━━━━━━━━━━━━━━━━━━━━━━━\u001b[0m \u001b[32m60.0/60.0 MB\u001b[0m \u001b[31m6.8 MB/s\u001b[0m  \u001b[33m0:00:08\u001b[0mm0:00:01\u001b[0m00:01\u001b[0m\n",
      "\u001b[?25hDownloading cvxopt-1.3.2-cp312-cp312-manylinux_2_17_x86_64.manylinux2014_x86_64.whl (17.9 MB)\n",
      "\u001b[2K   \u001b[90m━━━━━━━━━━━━━━━━━━━━━━━━━━━━━━━━━━━━━━━━\u001b[0m \u001b[32m17.9/17.9 MB\u001b[0m \u001b[31m3.1 MB/s\u001b[0m  \u001b[33m0:00:05\u001b[0mm0:00:01\u001b[0m00:01\u001b[0m\n",
      "\u001b[?25hDownloading gurobipy-12.0.3-cp312-cp312-manylinux2014_x86_64.manylinux_2_17_x86_64.whl (14.3 MB)\n",
      "\u001b[2K   \u001b[90m━━━━━━━━━━━━━━━━━━━━━━━━━━━━━━━━━━━━━━━━\u001b[0m \u001b[32m14.3/14.3 MB\u001b[0m \u001b[31m5.5 MB/s\u001b[0m  \u001b[33m0:00:02\u001b[0mm0:00:01\u001b[0m00:01\u001b[0m\n",
      "\u001b[?25hDownloading mosek-11.0.29-cp39-abi3-manylinux2014_x86_64.whl (14.7 MB)\n",
      "\u001b[2K   \u001b[90m━━━━━━━━━━━━━━━━━━━━━━━━━━━━━━━━━━━━━━━━\u001b[0m \u001b[32m14.7/14.7 MB\u001b[0m \u001b[31m6.2 MB/s\u001b[0m  \u001b[33m0:00:02\u001b[0mm0:00:01\u001b[0m00:01\u001b[0m\n",
      "\u001b[?25hDownloading pyscipopt-5.6.0-cp312-cp312-manylinux_2_28_x86_64.whl (16.0 MB)\n",
      "\u001b[2K   \u001b[90m━━━━━━━━━━━━━━━━━━━━━━━━━━━━━━━━━━━━━━━━\u001b[0m \u001b[32m16.0/16.0 MB\u001b[0m \u001b[31m3.6 MB/s\u001b[0m  \u001b[33m0:00:04\u001b[0m eta \u001b[36m0:00:01\u001b[0m\n",
      "\u001b[?25hInstalling collected packages: xpresslibs, pytz, xpress, tzdata, PySCIPOpt, protobuf, Mosek, immutabledict, gurobipy, cvxopt, absl-py, pandas, cylp, ortools\n",
      "\u001b[2K   \u001b[90m━━━━━━━━━━━━━━━━━━━━━━━━━━━━━━━━━━━━━━━━\u001b[0m \u001b[32m14/14\u001b[0m [ortools]3/14\u001b[0m [ortools]]]\n",
      "\u001b[1A\u001b[2KSuccessfully installed Mosek-11.0.29 PySCIPOpt-5.6.0 absl-py-2.3.1 cvxopt-1.3.2 cylp-0.93.1 gurobipy-12.0.3 immutabledict-4.2.1 ortools-9.14.6206 pandas-2.3.3 protobuf-6.31.1 pytz-2025.2 tzdata-2025.2 xpress-9.7.0 xpresslibs-9.7.0\n"
     ]
    }
   ],
   "source": [
    "# 在你的 HiMCM 环境里\n",
    "conda install -n HiMCM -c conda-forge cvxpy glpk cvxopt\n"
   ]
  },
  {
   "cell_type": "code",
   "execution_count": null,
   "id": "3dd92130",
   "metadata": {},
   "outputs": [],
   "source": []
  }
 ],
 "metadata": {
  "kernelspec": {
   "display_name": "HiMCM",
   "language": "python",
   "name": "python3"
  },
  "language_info": {
   "codemirror_mode": {
    "name": "ipython",
    "version": 3
   },
   "file_extension": ".py",
   "mimetype": "text/x-python",
   "name": "python",
   "nbconvert_exporter": "python",
   "pygments_lexer": "ipython3",
   "version": "3.12.11"
  }
 },
 "nbformat": 4,
 "nbformat_minor": 5
}
