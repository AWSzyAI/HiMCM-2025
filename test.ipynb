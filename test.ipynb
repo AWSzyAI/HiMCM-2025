{
 "cells": [
  {
   "cell_type": "code",
   "execution_count": 5,
   "id": "91c03ea0",
   "metadata": {},
   "outputs": [],
   "source": [
    "from src.glm_api import send_messages"
   ]
  },
  {
   "cell_type": "code",
   "execution_count": null,
   "id": "7d248dbe",
   "metadata": {},
   "outputs": [],
   "source": [
    "messages = [\n",
    "    {\"role\": \"system\", \"content\": \"You are a helpful assistant.\"},\n",
    "    {\"role\": \"user\", \"content\": \"介绍一下数学建模的学习路径。\"}\n",
    "]\n",
    "response = send_messages(messages, stream=True)"
   ]
  },
  {
   "cell_type": "code",
   "execution_count": null,
   "id": "38136025",
   "metadata": {},
   "outputs": [],
   "source": []
  }
 ],
 "metadata": {
  "kernelspec": {
   "display_name": "HiMCM",
   "language": "python",
   "name": "python3"
  },
  "language_info": {
   "codemirror_mode": {
    "name": "ipython",
    "version": 3
   },
   "file_extension": ".py",
   "mimetype": "text/x-python",
   "name": "python",
   "nbconvert_exporter": "python",
   "pygments_lexer": "ipython3",
   "version": "3.12.11"
  }
 },
 "nbformat": 4,
 "nbformat_minor": 5
}
