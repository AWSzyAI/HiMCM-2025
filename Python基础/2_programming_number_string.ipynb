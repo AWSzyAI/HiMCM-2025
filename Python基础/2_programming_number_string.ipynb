{
 "cells": [
  {
   "cell_type": "markdown",
   "metadata": {
    "collapsed": false,
    "id": "C2AF355199C24CADA1DBDCE2DF56C301",
    "jupyter": {},
    "notebookId": "66a6dc80ff3e499c6ca2d73b",
    "runtime": {
     "execution_status": null,
     "is_visible": false,
     "status": "default"
    },
    "scrolled": false,
    "slideshow": {
     "slide_type": "slide"
    },
    "tags": []
   },
   "source": [
    "# Standard Data Types"
   ]
  },
  {
   "cell_type": "markdown",
   "metadata": {
    "collapsed": false,
    "id": "C1E089FC23E94DB6A4046B67EC6EACAD",
    "jupyter": {},
    "notebookId": "66a6dc80ff3e499c6ca2d73b",
    "runtime": {
     "execution_status": null,
     "is_visible": false,
     "status": "default"
    },
    "scrolled": false,
    "slideshow": {
     "slide_type": "slide"
    },
    "tags": []
   },
   "source": [
    "The data stored in memory can be of many types. For example, a person's age is stored as a numeric value and his or her address is stored as alphanumeric characters. Python has various standard data types that are used to define the operations possible on them and the storage method for each of them.  \n",
    "\n",
    "Python has five standard data types −  \n",
    "\n",
    "- Numbers  \n",
    "- String  \n",
    "- List  \n",
    "- Tuple  \n",
    "- Dictionary"
   ]
  },
  {
   "cell_type": "markdown",
   "metadata": {
    "collapsed": false,
    "id": "F2CB976737DF42A7B5045128DE25C3F1",
    "jupyter": {},
    "notebookId": "66a6dc80ff3e499c6ca2d73b",
    "runtime": {
     "execution_status": null,
     "is_visible": false,
     "status": "default"
    },
    "scrolled": false,
    "slideshow": {
     "slide_type": "slide"
    },
    "tags": []
   },
   "source": [
    "## Python Numbers"
   ]
  },
  {
   "cell_type": "markdown",
   "metadata": {
    "collapsed": false,
    "id": "EB1ACFA0E691461C9C8EEE41151733C7",
    "jupyter": {},
    "notebookId": "66a6dc80ff3e499c6ca2d73b",
    "runtime": {
     "execution_status": null,
     "is_visible": false,
     "status": "default"
    },
    "scrolled": false,
    "slideshow": {
     "slide_type": "slide"
    },
    "tags": []
   },
   "source": [
    "### 创建Number"
   ]
  },
  {
   "cell_type": "markdown",
   "metadata": {
    "collapsed": false,
    "id": "C7CAFCB778A34F2890CEC2B558B89970",
    "jupyter": {},
    "notebookId": "66a6dc80ff3e499c6ca2d73b",
    "runtime": {
     "execution_status": null,
     "is_visible": false,
     "status": "default"
    },
    "scrolled": false,
    "slideshow": {
     "slide_type": "slide"
    },
    "tags": []
   },
   "source": [
    "Number data types store numeric values. "
   ]
  },
  {
   "cell_type": "code",
   "execution_count": 1,
   "metadata": {
    "collapsed": false,
    "id": "F7E7FCD94F254A4F9B4D0211F0A0FB37",
    "jupyter": {},
    "notebookId": "66a6dc80ff3e499c6ca2d73b",
    "scrolled": false,
    "slideshow": {
     "slide_type": "slide"
    },
    "tags": [],
    "trusted": true
   },
   "outputs": [],
   "source": [
    "var1 = 1\n",
    "var2 = 10\n",
    "var3 = 100"
   ]
  },
  {
   "cell_type": "markdown",
   "metadata": {
    "collapsed": false,
    "id": "4BDF28E286A24A5B8968FBDCECECD15E",
    "jupyter": {},
    "notebookId": "66a6dc80ff3e499c6ca2d73b",
    "runtime": {
     "execution_status": null,
     "is_visible": false,
     "status": "default"
    },
    "scrolled": false,
    "slideshow": {
     "slide_type": "slide"
    },
    "tags": []
   },
   "source": [
    "You can also delete the reference to a number object by using the `del` statement. "
   ]
  },
  {
   "cell_type": "code",
   "execution_count": 2,
   "metadata": {
    "collapsed": false,
    "id": "F1244FFEC9E44ECABC43522607F5AF4C",
    "jupyter": {},
    "notebookId": "66a6dc80ff3e499c6ca2d73b",
    "scrolled": false,
    "slideshow": {
     "slide_type": "slide"
    },
    "tags": [],
    "trusted": true
   },
   "outputs": [],
   "source": [
    "del var1\n",
    "del var2, var3"
   ]
  },
  {
   "cell_type": "markdown",
   "metadata": {
    "collapsed": false,
    "id": "93649D6C10C342F5B14C3AB1EB4868EC",
    "jupyter": {},
    "notebookId": "66a6dc80ff3e499c6ca2d73b",
    "runtime": {
     "execution_status": null,
     "is_visible": false,
     "status": "default"
    },
    "scrolled": false,
    "slideshow": {
     "slide_type": "slide"
    },
    "tags": []
   },
   "source": [
    "Python supports three different numerical types −  \n",
    "\n",
    "- `int` (signed integers)  \n",
    "- `float` (floating point real values)  \n",
    "- `complex` (complex numbers)  \n",
    "\n",
    "All integers in Python3 are represented as `long` integers. Hence, there is no separate number type as long."
   ]
  },
  {
   "cell_type": "markdown",
   "metadata": {
    "collapsed": false,
    "id": "50E72904AD8F44F19DA995E7E368B929",
    "jupyter": {},
    "notebookId": "66a6dc80ff3e499c6ca2d73b",
    "runtime": {
     "execution_status": null,
     "is_visible": false,
     "status": "default"
    },
    "scrolled": false,
    "slideshow": {
     "slide_type": "slide"
    },
    "tags": []
   },
   "source": [
    "**int**"
   ]
  },
  {
   "cell_type": "code",
   "execution_count": 3,
   "metadata": {
    "collapsed": false,
    "id": "769BBB7B90764F86904E1D72CC5FF446",
    "jupyter": {},
    "notebookId": "66a6dc80ff3e499c6ca2d73b",
    "scrolled": false,
    "slideshow": {
     "slide_type": "slide"
    },
    "tags": [],
    "trusted": true
   },
   "outputs": [
    {
     "name": "stdout",
     "output_type": "stream",
     "text": [
      "10\n",
      "<class 'int'>\n"
     ]
    }
   ],
   "source": [
    "x = 10\n",
    "print(x)\n",
    "print(type(x))"
   ]
  },
  {
   "cell_type": "markdown",
   "metadata": {
    "collapsed": false,
    "id": "0E213978F0354A36AAA260F6F20E55FF",
    "jupyter": {},
    "notebookId": "66a6dc80ff3e499c6ca2d73b",
    "runtime": {
     "execution_status": null,
     "is_visible": false,
     "status": "default"
    },
    "scrolled": false,
    "slideshow": {
     "slide_type": "slide"
    },
    "tags": []
   },
   "source": [
    "**float**"
   ]
  },
  {
   "cell_type": "code",
   "execution_count": 4,
   "metadata": {
    "collapsed": false,
    "id": "EBE02CCE5FBB4A6B8406338CE13D248C",
    "jupyter": {},
    "notebookId": "66a6dc80ff3e499c6ca2d73b",
    "scrolled": false,
    "slideshow": {
     "slide_type": "slide"
    },
    "tags": [],
    "trusted": true
   },
   "outputs": [
    {
     "name": "stdout",
     "output_type": "stream",
     "text": [
      "1.0\n",
      "<class 'float'>\n"
     ]
    }
   ],
   "source": [
    "x = 1.0\n",
    "print(x)\n",
    "print(type(x))"
   ]
  },
  {
   "cell_type": "markdown",
   "metadata": {
    "collapsed": false,
    "id": "D4E48AE01AB8412DBF0FBB6582A2D222",
    "jupyter": {},
    "notebookId": "66a6dc80ff3e499c6ca2d73b",
    "runtime": {
     "execution_status": null,
     "is_visible": false,
     "status": "default"
    },
    "scrolled": false,
    "slideshow": {
     "slide_type": "slide"
    },
    "tags": []
   },
   "source": [
    "Python supports scientific notation"
   ]
  },
  {
   "cell_type": "code",
   "execution_count": 5,
   "metadata": {
    "collapsed": false,
    "id": "147C64ECB4BD48B9A8C2D3D2E70849B4",
    "jupyter": {},
    "notebookId": "66a6dc80ff3e499c6ca2d73b",
    "scrolled": false,
    "slideshow": {
     "slide_type": "slide"
    },
    "tags": [],
    "trusted": true
   },
   "outputs": [
    {
     "data": {
      "text/plain": [
       "0.05"
      ]
     },
     "execution_count": 5,
     "metadata": {},
     "output_type": "execute_result"
    }
   ],
   "source": [
    "x = 5E-2\n",
    "x"
   ]
  },
  {
   "cell_type": "markdown",
   "metadata": {
    "collapsed": false,
    "id": "6911C3F33E774E3AA8F2831F35C2EBA7",
    "jupyter": {},
    "notebookId": "66a6dc80ff3e499c6ca2d73b",
    "runtime": {
     "execution_status": null,
     "is_visible": false,
     "status": "default"
    },
    "scrolled": false,
    "slideshow": {
     "slide_type": "slide"
    },
    "tags": []
   },
   "source": [
    "Python supports very small numbers, but adding them with big numbers is problematic"
   ]
  },
  {
   "cell_type": "code",
   "execution_count": null,
   "metadata": {
    "collapsed": false,
    "id": "59E6E8E370AA4ABB9978B13D8689008E",
    "jupyter": {},
    "notebookId": "66a6dc80ff3e499c6ca2d73b",
    "scrolled": false,
    "slideshow": {
     "slide_type": "slide"
    },
    "tags": [],
    "trusted": true
   },
   "outputs": [
    {
     "data": {
      "text/plain": [
       "True"
      ]
     },
     "execution_count": 6,
     "metadata": {},
     "output_type": "execute_result"
    }
   ],
   "source": [
    "b = 1e-16\n",
    "1+b == 1"
   ]
  },
  {
   "cell_type": "markdown",
   "metadata": {
    "collapsed": false,
    "id": "FCFE1FD671B7402E92F8BB4EB60E1F9D",
    "jupyter": {},
    "notebookId": "66a6dc80ff3e499c6ca2d73b",
    "runtime": {
     "execution_status": null,
     "is_visible": false,
     "status": "default"
    },
    "scrolled": false,
    "slideshow": {
     "slide_type": "slide"
    },
    "tags": []
   },
   "source": [
    "**complex**"
   ]
  },
  {
   "cell_type": "code",
   "execution_count": 7,
   "metadata": {
    "collapsed": false,
    "id": "F29A1AB0024D4CA2A078A08E0994999D",
    "jupyter": {},
    "notebookId": "66a6dc80ff3e499c6ca2d73b",
    "scrolled": false,
    "slideshow": {
     "slide_type": "slide"
    },
    "tags": [],
    "trusted": true
   },
   "outputs": [
    {
     "name": "stdout",
     "output_type": "stream",
     "text": [
      "9.322e-36j\n",
      "<class 'complex'>\n"
     ]
    }
   ],
   "source": [
    "c = 9.322e-36j\n",
    "print(c)\n",
    "print(type(c))"
   ]
  },
  {
   "cell_type": "code",
   "execution_count": 8,
   "metadata": {
    "collapsed": false,
    "id": "EF08D6EC05404FC196CBAA344337C4CA",
    "jupyter": {},
    "notebookId": "66a6dc80ff3e499c6ca2d73b",
    "scrolled": false,
    "slideshow": {
     "slide_type": "slide"
    },
    "tags": [],
    "trusted": true
   },
   "outputs": [
    {
     "data": {
      "text/plain": [
       "3.14j"
      ]
     },
     "execution_count": 8,
     "metadata": {},
     "output_type": "execute_result"
    }
   ],
   "source": [
    "d = 3.14j\n",
    "d"
   ]
  },
  {
   "cell_type": "code",
   "execution_count": 9,
   "metadata": {
    "collapsed": false,
    "id": "D4AFDD47B95844C89CC8608D82CB429A",
    "jupyter": {},
    "notebookId": "66a6dc80ff3e499c6ca2d73b",
    "scrolled": false,
    "slideshow": {
     "slide_type": "slide"
    },
    "tags": [],
    "trusted": true
   },
   "outputs": [
    {
     "name": "stdout",
     "output_type": "stream",
     "text": [
      "(0.5+0.2j)\n",
      "<class 'complex'>\n"
     ]
    }
   ],
   "source": [
    "e = 0.5 + 0.2j\n",
    "print(e)\n",
    "print(type(e))"
   ]
  },
  {
   "cell_type": "markdown",
   "metadata": {
    "collapsed": false,
    "id": "2E7C5728F07741E2A021DB1AA6D134A3",
    "jupyter": {},
    "notebookId": "66a6dc80ff3e499c6ca2d73b",
    "runtime": {
     "execution_status": null,
     "is_visible": false,
     "status": "default"
    },
    "scrolled": false,
    "slideshow": {
     "slide_type": "slide"
    },
    "tags": []
   },
   "source": [
    "**attributes of numbers**"
   ]
  },
  {
   "cell_type": "code",
   "execution_count": null,
   "metadata": {
    "collapsed": false,
    "id": "2F1797EF5F814BA0AA48B7FB88BA08EC",
    "jupyter": {},
    "notebookId": "66a6dc80ff3e499c6ca2d73b",
    "scrolled": false,
    "slideshow": {
     "slide_type": "slide"
    },
    "tags": [],
    "trusted": true
   },
   "outputs": [
    {
     "data": {
      "text/plain": [
       "0.2"
      ]
     },
     "execution_count": 10,
     "metadata": {},
     "output_type": "execute_result"
    }
   ],
   "source": [
    "e.imag\n"
   ]
  },
  {
   "cell_type": "code",
   "execution_count": 11,
   "metadata": {
    "collapsed": false,
    "id": "C78596574EAC44CEA0D31B2806E59FF1",
    "jupyter": {},
    "notebookId": "66a6dc80ff3e499c6ca2d73b",
    "scrolled": false,
    "slideshow": {
     "slide_type": "slide"
    },
    "tags": [],
    "trusted": true
   },
   "outputs": [
    {
     "data": {
      "text/plain": [
       "0.5"
      ]
     },
     "execution_count": 11,
     "metadata": {},
     "output_type": "execute_result"
    }
   ],
   "source": [
    "e.real"
   ]
  },
  {
   "cell_type": "markdown",
   "metadata": {
    "collapsed": false,
    "id": "DC2B0F7C27114C199F3FA9A2E180CF41",
    "jupyter": {},
    "notebookId": "66a6dc80ff3e499c6ca2d73b",
    "runtime": {
     "execution_status": null,
     "is_visible": false,
     "status": "default"
    },
    "scrolled": false,
    "slideshow": {
     "slide_type": "slide"
    },
    "tags": []
   },
   "source": [
    "### 操作Number"
   ]
  },
  {
   "cell_type": "markdown",
   "metadata": {
    "collapsed": false,
    "id": "52D8FD4C5DC74F3AB0012A896BCC2F24",
    "jupyter": {},
    "notebookId": "66a6dc80ff3e499c6ca2d73b",
    "runtime": {
     "execution_status": null,
     "is_visible": false,
     "status": "default"
    },
    "scrolled": false,
    "slideshow": {
     "slide_type": "slide"
    },
    "tags": []
   },
   "source": [
    "#### 数值基本运算"
   ]
  },
  {
   "cell_type": "markdown",
   "metadata": {
    "collapsed": false,
    "id": "0B30D2B5202C407F9829467D0EED6025",
    "jupyter": {},
    "notebookId": "66a6dc80ff3e499c6ca2d73b",
    "runtime": {
     "execution_status": null,
     "is_visible": false,
     "status": "default"
    },
    "scrolled": false,
    "slideshow": {
     "slide_type": "slide"
    },
    "tags": []
   },
   "source": [
    "支持最基本的数学运算符号：+, -, \\*, /, %, **、取正负`+x`, `-x`，地板除法`//`，除法和取模`divmod(x, y)`. "
   ]
  },
  {
   "cell_type": "code",
   "execution_count": null,
   "metadata": {
    "collapsed": false,
    "id": "24864F7C3C0E4EA9898B1200D65DFFF7",
    "jupyter": {},
    "notebookId": "66a6dc80ff3e499c6ca2d73b",
    "scrolled": false,
    "slideshow": {
     "slide_type": "slide"
    },
    "tags": [],
    "trusted": true
   },
   "outputs": [
    {
     "data": {
      "text/plain": [
       "468"
      ]
     },
     "execution_count": 12,
     "metadata": {},
     "output_type": "execute_result"
    }
   ],
   "source": [
    "123 + 345\n",
    "\n",
    "class int:\n",
    "    def __init__(self):\n",
    "        pass\n",
    "    def __add__(self, other):\n",
    "        return \"You are adding {} and {}\".format(self, other)\n",
    "    def __sub__(self, other):\n",
    "        return \"You are subtracting {} and {}\".format(self, other)\n",
    "    \n",
    "e."
   ]
  },
  {
   "cell_type": "code",
   "execution_count": 13,
   "metadata": {
    "collapsed": false,
    "id": "CBCB5A139D904B2E8AD2F57F82D4CC9F",
    "jupyter": {},
    "notebookId": "66a6dc80ff3e499c6ca2d73b",
    "scrolled": false,
    "slideshow": {
     "slide_type": "slide"
    },
    "tags": [],
    "trusted": true
   },
   "outputs": [
    {
     "data": {
      "text/plain": [
       "222"
      ]
     },
     "execution_count": 13,
     "metadata": {},
     "output_type": "execute_result"
    }
   ],
   "source": [
    "345 - 123"
   ]
  },
  {
   "cell_type": "code",
   "execution_count": 14,
   "metadata": {
    "collapsed": false,
    "id": "C1C2C60C003F4207A02A70E47EC5E935",
    "jupyter": {},
    "notebookId": "66a6dc80ff3e499c6ca2d73b",
    "scrolled": false,
    "slideshow": {
     "slide_type": "slide"
    },
    "tags": [],
    "trusted": true
   },
   "outputs": [
    {
     "data": {
      "text/plain": [
       "6.0"
      ]
     },
     "execution_count": 14,
     "metadata": {},
     "output_type": "execute_result"
    }
   ],
   "source": [
    "1.5 * 4"
   ]
  },
  {
   "cell_type": "code",
   "execution_count": 15,
   "metadata": {
    "collapsed": false,
    "id": "A04BC7DFACCC484E9BC029FE1A0176DA",
    "jupyter": {},
    "notebookId": "66a6dc80ff3e499c6ca2d73b",
    "scrolled": false,
    "slideshow": {
     "slide_type": "slide"
    },
    "tags": [],
    "trusted": true
   },
   "outputs": [
    {
     "data": {
      "text/plain": [
       "0.4"
      ]
     },
     "execution_count": 15,
     "metadata": {},
     "output_type": "execute_result"
    }
   ],
   "source": [
    "2 / 5"
   ]
  },
  {
   "cell_type": "code",
   "execution_count": 16,
   "metadata": {
    "collapsed": false,
    "id": "5277ECDEE53B4A779C366863847AB57C",
    "jupyter": {},
    "notebookId": "66a6dc80ff3e499c6ca2d73b",
    "scrolled": false,
    "slideshow": {
     "slide_type": "slide"
    },
    "tags": [],
    "trusted": true
   },
   "outputs": [
    {
     "data": {
      "text/plain": [
       "0"
      ]
     },
     "execution_count": 16,
     "metadata": {},
     "output_type": "execute_result"
    }
   ],
   "source": [
    "2 // 5"
   ]
  },
  {
   "cell_type": "markdown",
   "metadata": {
    "collapsed": false,
    "id": "53A76E3D955548079CA5EE53E07B9D01",
    "jupyter": {},
    "notebookId": "66a6dc80ff3e499c6ca2d73b",
    "runtime": {
     "execution_status": null,
     "is_visible": false,
     "status": "default"
    },
    "scrolled": false,
    "slideshow": {
     "slide_type": "slide"
    },
    "tags": []
   },
   "source": [
    "- `/`：实现的是真除法。在python中，它总是返回浮点数值。  \n",
    "- `//`：实现的是floor地板除法，它会去掉除法运算后的小数位，以便得到小于运算结果的最大整数。如果参与运算的有小数，则返回浮点数，否则返回整数"
   ]
  },
  {
   "cell_type": "code",
   "execution_count": 17,
   "metadata": {
    "collapsed": false,
    "id": "CB26691C14DE4B1884FA8677DD032FEB",
    "jupyter": {},
    "notebookId": "66a6dc80ff3e499c6ca2d73b",
    "scrolled": false,
    "slideshow": {
     "slide_type": "slide"
    },
    "tags": [],
    "trusted": true
   },
   "outputs": [
    {
     "data": {
      "text/plain": [
       "2"
      ]
     },
     "execution_count": 17,
     "metadata": {},
     "output_type": "execute_result"
    }
   ],
   "source": [
    "2 % 3"
   ]
  },
  {
   "cell_type": "code",
   "execution_count": 18,
   "metadata": {
    "collapsed": false,
    "id": "5DE917A81AFA4383B01C25FC9BE3BDA7",
    "jupyter": {},
    "notebookId": "66a6dc80ff3e499c6ca2d73b",
    "scrolled": false,
    "slideshow": {
     "slide_type": "slide"
    },
    "tags": [],
    "trusted": true
   },
   "outputs": [
    {
     "data": {
      "text/plain": [
       "9"
      ]
     },
     "execution_count": 18,
     "metadata": {},
     "output_type": "execute_result"
    }
   ],
   "source": [
    "3 ** 2"
   ]
  },
  {
   "cell_type": "code",
   "execution_count": 19,
   "metadata": {
    "collapsed": false,
    "id": "92A0E8A723634E13926FCF0C710A96A8",
    "jupyter": {},
    "notebookId": "66a6dc80ff3e499c6ca2d73b",
    "scrolled": false,
    "slideshow": {
     "slide_type": "slide"
    },
    "tags": [],
    "trusted": true
   },
   "outputs": [
    {
     "data": {
      "text/plain": [
       "9.0"
      ]
     },
     "execution_count": 19,
     "metadata": {},
     "output_type": "execute_result"
    }
   ],
   "source": [
    "3.00 ** 2"
   ]
  },
  {
   "cell_type": "code",
   "execution_count": 20,
   "metadata": {
    "collapsed": false,
    "id": "30036BCE49AF44018D7E0C18ABADF47A",
    "jupyter": {},
    "notebookId": "66a6dc80ff3e499c6ca2d73b",
    "scrolled": false,
    "slideshow": {
     "slide_type": "slide"
    },
    "tags": [],
    "trusted": true
   },
   "outputs": [],
   "source": [
    "a = 3; b = -3"
   ]
  },
  {
   "cell_type": "code",
   "execution_count": 21,
   "metadata": {
    "collapsed": false,
    "id": "C76ECF1893B54A0FB2A2C31064BF1159",
    "jupyter": {},
    "notebookId": "66a6dc80ff3e499c6ca2d73b",
    "scrolled": false,
    "slideshow": {
     "slide_type": "slide"
    },
    "tags": [],
    "trusted": true
   },
   "outputs": [
    {
     "data": {
      "text/plain": [
       "(-3, 3)"
      ]
     },
     "execution_count": 21,
     "metadata": {},
     "output_type": "execute_result"
    }
   ],
   "source": [
    "-a, -b"
   ]
  },
  {
   "cell_type": "code",
   "execution_count": 22,
   "metadata": {
    "collapsed": false,
    "id": "2D4BC36AD6274BBDB1548C6EAEC830DC",
    "jupyter": {},
    "notebookId": "66a6dc80ff3e499c6ca2d73b",
    "scrolled": false,
    "slideshow": {
     "slide_type": "slide"
    },
    "tags": [],
    "trusted": true
   },
   "outputs": [
    {
     "data": {
      "text/plain": [
       "(2, 1)"
      ]
     },
     "execution_count": 22,
     "metadata": {},
     "output_type": "execute_result"
    }
   ],
   "source": [
    "divmod(5, 2)"
   ]
  },
  {
   "cell_type": "markdown",
   "metadata": {
    "collapsed": false,
    "id": "B9B249DBEB7946DB8013978D8B1E8890",
    "jupyter": {},
    "notebookId": "66a6dc80ff3e499c6ca2d73b",
    "runtime": {
     "execution_status": null,
     "is_visible": false,
     "status": "default"
    },
    "scrolled": false,
    "slideshow": {
     "slide_type": "slide"
    },
    "tags": []
   },
   "source": [
    "#### 位运算符"
   ]
  },
  {
   "cell_type": "code",
   "execution_count": null,
   "id": "4f128027",
   "metadata": {},
   "outputs": [],
   "source": [
    "1\n",
    "0000 0001\n",
    "7\n",
    "0000 0111\n",
    "~7\n",
    "1111 1000 \n",
    "7>>1=3\n",
    "00000 011"
   ]
  },
  {
   "cell_type": "markdown",
   "metadata": {
    "collapsed": false,
    "id": "F197DECA913C4C888CA75199C60E4996",
    "jupyter": {},
    "notebookId": "66a6dc80ff3e499c6ca2d73b",
    "runtime": {
     "execution_status": null,
     "is_visible": false,
     "status": "default"
    },
    "scrolled": false,
    "slideshow": {
     "slide_type": "slide"
    },
    "tags": []
   },
   "source": [
    "取反(~)、位移(>>)、位与(&)、位异或(^)、逻辑与(and)、逻辑或(or)"
   ]
  },
  {
   "cell_type": "markdown",
   "metadata": {
    "collapsed": false,
    "id": "C2684DD1D7C744FB92F8A57B49DA3613",
    "jupyter": {},
    "notebookId": "66a6dc80ff3e499c6ca2d73b",
    "runtime": {
     "execution_status": null,
     "is_visible": false,
     "status": "default"
    },
    "scrolled": false,
    "slideshow": {
     "slide_type": "slide"
    },
    "tags": []
   },
   "source": [
    "| 运算符 | 描述  | 实例   |  \n",
    "| :----- | :----------------------------------------------------------- | :----------------------------------------------------------- |  \n",
    "| &      | 按位与运算符：参与运算的两个值,如果两个相应位都为1,则该位的结果为1,否则为0 | (a & b) 输出结果 12 ，二进制解释： 0000 1100                 |  \n",
    "| \\|     | 按位或运算符：只要对应的二个二进位有一个为1时，结果位就为1。 | (a \\| b) 输出结果 61 ，二进制解释： 0011 1101                |  \n",
    "| ^      | 按位异或运算符：当两对应的二进位相异时，结果为1              | (a ^ b) 输出结果 49 ，二进制解释： 0011 0001                 |  \n",
    "| ~      | 按位取反运算符：对数据的每个二进制位取反,即把1变为0,把0变为1 。**~x** 类似于 **-x-1** | (~a ) 输出结果 -61 ，二进制解释： 1100 0011，在一个有符号二进制数的补码形式。 |  \n",
    "| <<     | 左移动运算符：运算数的各二进位全部左移若干位，由 **<<** 右边的数字指定了移动的位数，高位丢弃，低位补0。 | a << 2 输出结果 240 ，二进制解释： 1111 0000                 |  \n",
    "| >>     | 右移动运算符：把\">>\"左边的运算数的各二进位全部右移若干位，**>>** 右边的数字指定了移动的位数 | a >> 2 输出结果 15 ，二进制解释： 0000 1111                  |  \n",
    "|        |                                                              |                                                              |  \n",
    "|        |                                                              |                                                              |  \n"
   ]
  },
  {
   "cell_type": "code",
   "execution_count": 23,
   "metadata": {
    "collapsed": false,
    "id": "7E806581F2BA48CD84B55A64691FFA4E",
    "jupyter": {},
    "notebookId": "66a6dc80ff3e499c6ca2d73b",
    "scrolled": false,
    "slideshow": {
     "slide_type": "slide"
    },
    "tags": [],
    "trusted": true
   },
   "outputs": [],
   "source": [
    "a = 60\n",
    "b = 13"
   ]
  },
  {
   "cell_type": "code",
   "execution_count": 24,
   "metadata": {
    "collapsed": false,
    "id": "52D5505F470C49E8A51990EA4A6BC184",
    "jupyter": {},
    "notebookId": "66a6dc80ff3e499c6ca2d73b",
    "scrolled": false,
    "slideshow": {
     "slide_type": "slide"
    },
    "tags": [],
    "trusted": true
   },
   "outputs": [
    {
     "data": {
      "text/plain": [
       "('111100', '1101')"
      ]
     },
     "execution_count": 24,
     "metadata": {},
     "output_type": "execute_result"
    }
   ],
   "source": [
    "\"{0:b}\".format(a), \"{0:b}\".format(b)"
   ]
  },
  {
   "cell_type": "code",
   "execution_count": 25,
   "metadata": {
    "collapsed": false,
    "id": "796508F58C5F4332A548E56FA7F93125",
    "jupyter": {},
    "notebookId": "66a6dc80ff3e499c6ca2d73b",
    "scrolled": false,
    "slideshow": {
     "slide_type": "slide"
    },
    "tags": [],
    "trusted": true
   },
   "outputs": [
    {
     "data": {
      "text/plain": [
       "'1100'"
      ]
     },
     "execution_count": 25,
     "metadata": {},
     "output_type": "execute_result"
    }
   ],
   "source": [
    "\"{0:b}\".format(a&b)"
   ]
  },
  {
   "cell_type": "code",
   "execution_count": null,
   "metadata": {
    "collapsed": false,
    "id": "C0F0CF7AB3EF4E6A8C47DBA722691FF8",
    "jupyter": {},
    "notebookId": "66a6dc80ff3e499c6ca2d73b",
    "scrolled": false,
    "slideshow": {
     "slide_type": "slide"
    },
    "tags": [],
    "trusted": true
   },
   "outputs": [
    {
     "data": {
      "text/plain": [
       "'111101'"
      ]
     },
     "execution_count": 26,
     "metadata": {},
     "output_type": "execute_result"
    }
   ],
   "source": [
    "\"{0:b}\".format(a|b)\n",
    "111100 \n",
    "001101"
   ]
  },
  {
   "cell_type": "code",
   "execution_count": 27,
   "metadata": {
    "collapsed": false,
    "id": "51506EB69F8740929E7007902B9C6C5E",
    "jupyter": {},
    "notebookId": "66a6dc80ff3e499c6ca2d73b",
    "scrolled": false,
    "slideshow": {
     "slide_type": "slide"
    },
    "tags": [],
    "trusted": true
   },
   "outputs": [
    {
     "data": {
      "text/plain": [
       "'110001'"
      ]
     },
     "execution_count": 27,
     "metadata": {},
     "output_type": "execute_result"
    }
   ],
   "source": [
    "\"{0:b}\".format(a^b)"
   ]
  },
  {
   "cell_type": "code",
   "execution_count": 28,
   "metadata": {
    "collapsed": false,
    "id": "CD41D496B99046429AC1657A24C790FA",
    "jupyter": {},
    "notebookId": "66a6dc80ff3e499c6ca2d73b",
    "scrolled": false,
    "slideshow": {
     "slide_type": "slide"
    },
    "tags": [],
    "trusted": true
   },
   "outputs": [
    {
     "data": {
      "text/plain": [
       "'-111101'"
      ]
     },
     "execution_count": 28,
     "metadata": {},
     "output_type": "execute_result"
    }
   ],
   "source": [
    "\"{0:b}\".format(~a)"
   ]
  },
  {
   "cell_type": "code",
   "execution_count": 29,
   "metadata": {
    "collapsed": false,
    "id": "3B7C8759084E424E95FF64EE48EF703D",
    "jupyter": {},
    "notebookId": "66a6dc80ff3e499c6ca2d73b",
    "scrolled": false,
    "slideshow": {
     "slide_type": "slide"
    },
    "tags": [],
    "trusted": true
   },
   "outputs": [
    {
     "data": {
      "text/plain": [
       "'1111000'"
      ]
     },
     "execution_count": 29,
     "metadata": {},
     "output_type": "execute_result"
    }
   ],
   "source": [
    "\"{0:b}\".format(a<<1)"
   ]
  },
  {
   "cell_type": "code",
   "execution_count": 30,
   "metadata": {
    "collapsed": false,
    "id": "0306182CCFCB4973954BDB22B59EB71B",
    "jupyter": {},
    "notebookId": "66a6dc80ff3e499c6ca2d73b",
    "scrolled": false,
    "slideshow": {
     "slide_type": "slide"
    },
    "tags": [],
    "trusted": true
   },
   "outputs": [
    {
     "data": {
      "text/plain": [
       "'11110'"
      ]
     },
     "execution_count": 30,
     "metadata": {},
     "output_type": "execute_result"
    }
   ],
   "source": [
    "\"{0:b}\".format(a>>1)"
   ]
  },
  {
   "cell_type": "markdown",
   "metadata": {
    "collapsed": false,
    "id": "2854B0A304B042B0A5D3898C1B623790",
    "jupyter": {},
    "notebookId": "66a6dc80ff3e499c6ca2d73b",
    "runtime": {
     "execution_status": null,
     "is_visible": false,
     "status": "default"
    },
    "scrolled": false,
    "slideshow": {
     "slide_type": "slide"
    },
    "tags": []
   },
   "source": [
    "#### 逻辑运算符"
   ]
  },
  {
   "cell_type": "markdown",
   "metadata": {
    "collapsed": false,
    "id": "7FACDBAB1BFF42DF9A8609567894A3BF",
    "jupyter": {},
    "notebookId": "66a6dc80ff3e499c6ca2d73b",
    "runtime": {
     "execution_status": null,
     "is_visible": false,
     "status": "default"
    },
    "scrolled": false,
    "slideshow": {
     "slide_type": "slide"
    },
    "tags": []
   },
   "source": [
    "| 运算符 | 逻辑表达式 | 描述                                                         | 实例                    |  \n",
    "| :----- | :--------- | :----------------------------------------------------------- | :---------------------- |  \n",
    "| and    | x and y    | 布尔\"与\" - 如果 x 为 False，x and y 返回 False，否则它返回 y 的计算值。 | (a and b) 返回 20。     |  \n",
    "| or     | x or y     | 布尔\"或\" - 如果 x 是非 0，它返回 x 的计算值，否则它返回 y 的计算值。 | (a or b) 返回 10。      |  \n",
    "| not    | not x      | 布尔\"非\" - 如果 x 为 True，返回 False 。如果 x 为 False，它返回 True。 | not(a and b) 返回 False |  \n",
    "\n"
   ]
  },
  {
   "cell_type": "code",
   "execution_count": 1,
   "metadata": {
    "collapsed": false,
    "id": "234CA3190A1A453C86CBCE32124D951A",
    "jupyter": {},
    "notebookId": "66a6dc80ff3e499c6ca2d73b",
    "scrolled": false,
    "slideshow": {
     "slide_type": "slide"
    },
    "tags": [],
    "trusted": true
   },
   "outputs": [],
   "source": [
    "a = 10\n",
    "b = 20"
   ]
  },
  {
   "cell_type": "code",
   "execution_count": 2,
   "metadata": {
    "collapsed": false,
    "id": "4F7CD73056A6494E9D5AA0BC2656C603",
    "jupyter": {},
    "notebookId": "66a6dc80ff3e499c6ca2d73b",
    "scrolled": false,
    "slideshow": {
     "slide_type": "slide"
    },
    "tags": [],
    "trusted": true
   },
   "outputs": [
    {
     "name": "stdout",
     "output_type": "stream",
     "text": [
      "1 - 变量 a 和 b 都为 true\n",
      "2 - 变量 a 和 b 都为 true，或其中一个变量为 true\n"
     ]
    }
   ],
   "source": [
    "if  a and b :\n",
    "   print(\"1 - 变量 a 和 b 都为 true\")\n",
    "else:\n",
    "   print(\"1 - 变量 a 和 b 有一个不为 true\")\n",
    " \n",
    "if  a or b :\n",
    "   print(\"2 - 变量 a 和 b 都为 true，或其中一个变量为 true\")\n",
    "else:\n",
    "   print(\"2 - 变量 a 和 b 都不为 true\")"
   ]
  },
  {
   "cell_type": "code",
   "execution_count": null,
   "metadata": {
    "collapsed": false,
    "id": "F39E4389BB254882BDB9F731A0CB9833",
    "jupyter": {},
    "notebookId": "66a6dc80ff3e499c6ca2d73b",
    "scrolled": false,
    "slideshow": {
     "slide_type": "slide"
    },
    "tags": [],
    "trusted": true
   },
   "outputs": [
    {
     "name": "stdout",
     "output_type": "stream",
     "text": [
      "3 - 变量 a 和 b 有一个不为 true\n"
     ]
    }
   ],
   "source": [
    "# 修改变量 a 的值\n",
    "0 / None / NaN False\n",
    "others True\n",
    "a = 0\n",
    "if  a and b :\n",
    "   print(\"3 - 变量 a 和 b 都为 true\")\n",
    "else:\n",
    "   print(\"3 - 变量 a 和 b 有一个不为 true\")"
   ]
  },
  {
   "cell_type": "code",
   "execution_count": 34,
   "metadata": {
    "collapsed": false,
    "id": "2A7AE997ED2D41DA8CEF933C80E32276",
    "jupyter": {},
    "notebookId": "66a6dc80ff3e499c6ca2d73b",
    "scrolled": false,
    "slideshow": {
     "slide_type": "slide"
    },
    "tags": [],
    "trusted": true
   },
   "outputs": [
    {
     "name": "stdout",
     "output_type": "stream",
     "text": [
      "4 - 变量 a 和 b 都为 true，或其中一个变量为 true\n"
     ]
    }
   ],
   "source": [
    "if  a or b :\n",
    "   print( \"4 - 变量 a 和 b 都为 true，或其中一个变量为 true\")\n",
    "else:\n",
    "   print (\"4 - 变量 a 和 b 都不为 true\")"
   ]
  },
  {
   "cell_type": "code",
   "execution_count": 35,
   "metadata": {
    "collapsed": false,
    "id": "F31DD069A1504B51AF3C91FA7F737728",
    "jupyter": {},
    "notebookId": "66a6dc80ff3e499c6ca2d73b",
    "scrolled": false,
    "slideshow": {
     "slide_type": "slide"
    },
    "tags": [],
    "trusted": true
   },
   "outputs": [
    {
     "name": "stdout",
     "output_type": "stream",
     "text": [
      "5 - 变量 a 和 b 都为 false，或其中一个变量为 false\n"
     ]
    }
   ],
   "source": [
    "if not( a and b ):\n",
    "   print (\"5 - 变量 a 和 b 都为 false，或其中一个变量为 false\")\n",
    "else:\n",
    "   print (\"5 - 变量 a 和 b 都为 true\")"
   ]
  },
  {
   "cell_type": "markdown",
   "metadata": {
    "collapsed": false,
    "id": "8BAE76B47A144ACA96306CB5B4E9EB4D",
    "jupyter": {},
    "notebookId": "66a6dc80ff3e499c6ca2d73b",
    "runtime": {
     "execution_status": null,
     "is_visible": false,
     "status": "default"
    },
    "scrolled": false,
    "slideshow": {
     "slide_type": "slide"
    },
    "tags": []
   },
   "source": [
    "#### 内置数学函数"
   ]
  },
  {
   "cell_type": "markdown",
   "metadata": {
    "collapsed": false,
    "id": "BE43B710C98E430388AD0455F6B19F8B",
    "jupyter": {},
    "notebookId": "66a6dc80ff3e499c6ca2d73b",
    "runtime": {
     "execution_status": null,
     "is_visible": false,
     "status": "default"
    },
    "scrolled": false,
    "slideshow": {
     "slide_type": "slide"
    },
    "tags": []
   },
   "source": [
    "- `pow()`：求幂，如pow(2,3)=8  \n",
    "- `abs()`：求绝对值，如abs(-3)=3  \n",
    "- `round()`：四舍五入，如round(3.5)=4  \n",
    "- `int()`：取整(截去小数部分)，如int(3.5)=3  \n",
    "- `float()`：转换成浮点数，如float(3)=3.0  \n",
    "- `oct()`：十进制整数转换成八进制  \n",
    "- `hex()`：十进制整数转换成十六进制整数  \n",
    "- `bin()`：十进制整数转换成二进制"
   ]
  },
  {
   "cell_type": "code",
   "execution_count": 12,
   "id": "47faba38",
   "metadata": {},
   "outputs": [
    {
     "name": "stdout",
     "output_type": "stream",
     "text": [
      "0b1010\n",
      "0xa\n",
      "0b1010\n",
      "0o12\n"
     ]
    }
   ],
   "source": [
    "x = 10\n",
    "print(bin(x))\n",
    "print(hex(x))\n",
    "print(bin(x))\n",
    "print(oct(x))"
   ]
  },
  {
   "cell_type": "markdown",
   "metadata": {
    "collapsed": false,
    "id": "EAE085707EEC440281851DF33D2B41EE",
    "jupyter": {},
    "notebookId": "66a6dc80ff3e499c6ca2d73b",
    "runtime": {
     "execution_status": null,
     "is_visible": false,
     "status": "default"
    },
    "scrolled": false,
    "slideshow": {
     "slide_type": "slide"
    },
    "tags": []
   },
   "source": [
    "## Python Strings"
   ]
  },
  {
   "cell_type": "markdown",
   "metadata": {
    "collapsed": false,
    "id": "214DCECAA2B74FC19B8A1EF3D6C7BB99",
    "jupyter": {},
    "notebookId": "66a6dc80ff3e499c6ca2d73b",
    "runtime": {
     "execution_status": null,
     "is_visible": false,
     "status": "default"
    },
    "scrolled": false,
    "slideshow": {
     "slide_type": "slide"
    },
    "tags": []
   },
   "source": [
    "Strings in Python are identified as a contiguous set of characters represented in the quotation marks. "
   ]
  },
  {
   "cell_type": "markdown",
   "metadata": {
    "collapsed": false,
    "id": "B81C13B020174FC981BACB72D7FA829D",
    "jupyter": {},
    "notebookId": "66a6dc80ff3e499c6ca2d73b",
    "runtime": {
     "execution_status": null,
     "is_visible": false,
     "status": "default"
    },
    "scrolled": false,
    "slideshow": {
     "slide_type": "slide"
    },
    "tags": []
   },
   "source": [
    "### 字符串的创建"
   ]
  },
  {
   "cell_type": "markdown",
   "metadata": {
    "collapsed": false,
    "id": "118F384B695D4B8B956989749A1CC4EA",
    "jupyter": {},
    "notebookId": "66a6dc80ff3e499c6ca2d73b",
    "runtime": {
     "execution_status": null,
     "is_visible": false,
     "status": "default"
    },
    "scrolled": false,
    "slideshow": {
     "slide_type": "slide"
    },
    "tags": []
   },
   "source": [
    "#### Method 1: quotes"
   ]
  },
  {
   "cell_type": "markdown",
   "metadata": {
    "collapsed": false,
    "id": "95B540C28807411FAFCEA0FB2ED1BB2C",
    "jupyter": {},
    "notebookId": "66a6dc80ff3e499c6ca2d73b",
    "runtime": {
     "execution_status": null,
     "is_visible": false,
     "status": "default"
    },
    "scrolled": false,
    "slideshow": {
     "slide_type": "slide"
    },
    "tags": []
   },
   "source": [
    "Create a string in Python by a pair of single or double quotes:"
   ]
  },
  {
   "cell_type": "code",
   "execution_count": 36,
   "metadata": {
    "collapsed": false,
    "id": "01A4585F5C4B4C719B9321AE0E8EBB2F",
    "jupyter": {},
    "notebookId": "66a6dc80ff3e499c6ca2d73b",
    "scrolled": false,
    "slideshow": {
     "slide_type": "slide"
    },
    "tags": [],
    "trusted": true
   },
   "outputs": [
    {
     "data": {
      "text/plain": [
       "('Hello World!', 'Hello World!')"
      ]
     },
     "execution_count": 36,
     "metadata": {},
     "output_type": "execute_result"
    }
   ],
   "source": [
    "s1 = 'Hello World!'\n",
    "\n",
    "s2 = \"Hello World!\"\n",
    "\n",
    "s1, s2"
   ]
  },
  {
   "cell_type": "markdown",
   "metadata": {
    "collapsed": false,
    "id": "4718FD85FF604D8990DF9571E906249B",
    "jupyter": {},
    "notebookId": "66a6dc80ff3e499c6ca2d73b",
    "runtime": {
     "execution_status": null,
     "is_visible": false,
     "status": "default"
    },
    "scrolled": false,
    "slideshow": {
     "slide_type": "slide"
    },
    "tags": []
   },
   "source": [
    "#### Method 2: str()"
   ]
  },
  {
   "cell_type": "markdown",
   "metadata": {
    "collapsed": false,
    "id": "81494ABB34A54101B21117DD314BC73D",
    "jupyter": {},
    "notebookId": "66a6dc80ff3e499c6ca2d73b",
    "runtime": {
     "execution_status": null,
     "is_visible": false,
     "status": "default"
    },
    "scrolled": false,
    "slideshow": {
     "slide_type": "slide"
    },
    "tags": []
   },
   "source": [
    "Create a string by `str()`:"
   ]
  },
  {
   "cell_type": "code",
   "execution_count": null,
   "metadata": {
    "collapsed": false,
    "id": "D3C985B87369499BA3CA8D60BBB8DC92",
    "jupyter": {},
    "notebookId": "66a6dc80ff3e499c6ca2d73b",
    "scrolled": false,
    "slideshow": {
     "slide_type": "slide"
    },
    "tags": [],
    "trusted": true
   },
   "outputs": [
    {
     "data": {
      "text/plain": [
       "str"
      ]
     },
     "execution_count": 13,
     "metadata": {},
     "output_type": "execute_result"
    }
   ],
   "source": [
    "str(123), type(str(123))"
   ]
  },
  {
   "cell_type": "markdown",
   "metadata": {
    "collapsed": false,
    "id": "E3A2B514CEF04505B79756ACF2F38229",
    "jupyter": {},
    "notebookId": "66a6dc80ff3e499c6ca2d73b",
    "runtime": {
     "execution_status": null,
     "is_visible": false,
     "status": "default"
    },
    "scrolled": false,
    "slideshow": {
     "slide_type": "slide"
    },
    "tags": []
   },
   "source": [
    "#### Method 3: 占位符(%)格式化"
   ]
  },
  {
   "cell_type": "markdown",
   "metadata": {
    "collapsed": false,
    "id": "4CFDDE45EC6646C48B839DC944EE5D0E",
    "jupyter": {},
    "notebookId": "66a6dc80ff3e499c6ca2d73b",
    "runtime": {
     "execution_status": null,
     "is_visible": false,
     "status": "default"
    },
    "scrolled": false,
    "slideshow": {
     "slide_type": "slide"
    },
    "tags": []
   },
   "source": [
    "![](files/string_m1.png)"
   ]
  },
  {
   "cell_type": "code",
   "execution_count": 38,
   "metadata": {
    "collapsed": false,
    "id": "595A847877D645F08E3C47A1C5C32A34",
    "jupyter": {},
    "notebookId": "66a6dc80ff3e499c6ca2d73b",
    "scrolled": false,
    "slideshow": {
     "slide_type": "slide"
    },
    "tags": [],
    "trusted": true
   },
   "outputs": [
    {
     "name": "stdout",
     "output_type": "stream",
     "text": [
      "my age is 29\n"
     ]
    }
   ],
   "source": [
    "age = 29\n",
    "print(\"my age is %d\" % age)"
   ]
  },
  {
   "cell_type": "code",
   "execution_count": 39,
   "metadata": {
    "collapsed": false,
    "id": "7A2ACE9E7CA149CEAF6948C2B81EF360",
    "jupyter": {},
    "notebookId": "66a6dc80ff3e499c6ca2d73b",
    "scrolled": false,
    "slideshow": {
     "slide_type": "slide"
    },
    "tags": [],
    "trusted": true
   },
   "outputs": [
    {
     "name": "stdout",
     "output_type": "stream",
     "text": [
      "my name is makes\n"
     ]
    }
   ],
   "source": [
    "name = \"makes\"\n",
    "print(\"my name is %s\" % name)"
   ]
  },
  {
   "cell_type": "code",
   "execution_count": 40,
   "metadata": {
    "collapsed": false,
    "id": "C89BEA2CF1A9487E8C3C06299DBB77DA",
    "jupyter": {},
    "notebookId": "66a6dc80ff3e499c6ca2d73b",
    "scrolled": true,
    "slideshow": {
     "slide_type": "slide"
    },
    "tags": [],
    "trusted": true
   },
   "outputs": [
    {
     "name": "stdout",
     "output_type": "stream",
     "text": [
      " 2.300\n",
      "2.300000\n"
     ]
    }
   ],
   "source": [
    "print(\"%6.3f\" % 2.3)\n",
    "\n",
    "print(\"%f\" % 2.3)"
   ]
  },
  {
   "cell_type": "markdown",
   "metadata": {
    "collapsed": false,
    "id": "0E08F1E568EA4720871053C2E110BDBE",
    "jupyter": {},
    "notebookId": "66a6dc80ff3e499c6ca2d73b",
    "runtime": {
     "execution_status": null,
     "is_visible": false,
     "status": "default"
    },
    "scrolled": false,
    "slideshow": {
     "slide_type": "slide"
    },
    "tags": []
   },
   "source": [
    "#### Method 4:  format()"
   ]
  },
  {
   "cell_type": "markdown",
   "metadata": {
    "collapsed": false,
    "id": "E31567DC5AD144F89252ACC878951EED",
    "jupyter": {},
    "notebookId": "66a6dc80ff3e499c6ca2d73b",
    "runtime": {
     "execution_status": null,
     "is_visible": false,
     "status": "default"
    },
    "scrolled": false,
    "slideshow": {
     "slide_type": "slide"
    },
    "tags": []
   },
   "source": [
    "**位置映射**"
   ]
  },
  {
   "cell_type": "markdown",
   "metadata": {
    "collapsed": false,
    "id": "5B39C2F05E9F49489258BE1D54AC95EB",
    "jupyter": {},
    "notebookId": "66a6dc80ff3e499c6ca2d73b",
    "runtime": {
     "execution_status": null,
     "is_visible": false,
     "status": "default"
    },
    "scrolled": false,
    "slideshow": {
     "slide_type": "slide"
    },
    "tags": []
   },
   "source": [
    "![](files/string_m2.png)"
   ]
  },
  {
   "cell_type": "code",
   "execution_count": 41,
   "metadata": {
    "collapsed": false,
    "id": "95047015277146BB9B9F178FBAF14D33",
    "jupyter": {},
    "notebookId": "66a6dc80ff3e499c6ca2d73b",
    "scrolled": false,
    "slideshow": {
     "slide_type": "slide"
    },
    "tags": [],
    "trusted": true
   },
   "outputs": [
    {
     "name": "stdout",
     "output_type": "stream",
     "text": [
      "192.168.0.100:8888\n"
     ]
    }
   ],
   "source": [
    "print(\"{}:{}\".format('192.168.0.100', 8888))"
   ]
  },
  {
   "cell_type": "markdown",
   "metadata": {
    "collapsed": false,
    "id": "5461A72D5222449181D8BDC8BB1BAEFC",
    "jupyter": {},
    "notebookId": "66a6dc80ff3e499c6ca2d73b",
    "runtime": {
     "execution_status": null,
     "is_visible": false,
     "status": "default"
    },
    "scrolled": false,
    "slideshow": {
     "slide_type": "slide"
    },
    "tags": []
   },
   "source": [
    "**关键字映射**"
   ]
  },
  {
   "cell_type": "markdown",
   "metadata": {
    "collapsed": false,
    "id": "E02122FF8CA441EC994FF53BC272C131",
    "jupyter": {},
    "notebookId": "66a6dc80ff3e499c6ca2d73b",
    "runtime": {
     "execution_status": null,
     "is_visible": false,
     "status": "default"
    },
    "scrolled": false,
    "slideshow": {
     "slide_type": "slide"
    },
    "tags": []
   },
   "source": [
    "![](files/string_m3.png)"
   ]
  },
  {
   "cell_type": "code",
   "execution_count": 42,
   "metadata": {
    "collapsed": false,
    "id": "C83C5DA29CB54CB9A1FE02FD14663626",
    "jupyter": {},
    "notebookId": "66a6dc80ff3e499c6ca2d73b",
    "scrolled": false,
    "slideshow": {
     "slide_type": "slide"
    },
    "tags": [],
    "trusted": true
   },
   "outputs": [
    {
     "name": "stdout",
     "output_type": "stream",
     "text": [
      "Web Server Info :192.168.1.100:8888\n"
     ]
    }
   ],
   "source": [
    "print(\"{server}{1}:{0}\".format(8888, \n",
    "                               '192.168.1.100',\n",
    "                               server='Web Server Info :'))"
   ]
  },
  {
   "cell_type": "markdown",
   "metadata": {
    "collapsed": false,
    "id": "AA35C328FD96430C93D9F56D070BF9A8",
    "jupyter": {},
    "notebookId": "66a6dc80ff3e499c6ca2d73b",
    "runtime": {
     "execution_status": null,
     "is_visible": false,
     "status": "default"
    },
    "scrolled": false,
    "slideshow": {
     "slide_type": "slide"
    },
    "tags": []
   },
   "source": [
    "### 字符串的操作"
   ]
  },
  {
   "cell_type": "markdown",
   "metadata": {
    "collapsed": false,
    "id": "8E07CF2074654F5B8EC515C50CFFFFB8",
    "jupyter": {},
    "notebookId": "66a6dc80ff3e499c6ca2d73b",
    "runtime": {
     "execution_status": null,
     "is_visible": false,
     "status": "default"
    },
    "scrolled": false,
    "slideshow": {
     "slide_type": "slide"
    },
    "tags": []
   },
   "source": [
    "#### 大小写转换"
   ]
  },
  {
   "cell_type": "markdown",
   "metadata": {
    "collapsed": false,
    "id": "26D6F19FB74C4EA699B4B8E8085E5C6F",
    "jupyter": {},
    "notebookId": "66a6dc80ff3e499c6ca2d73b",
    "runtime": {
     "execution_status": null,
     "is_visible": false,
     "status": "default"
    },
    "scrolled": false,
    "slideshow": {
     "slide_type": "slide"
    },
    "tags": []
   },
   "source": [
    "`S.lower()`"
   ]
  },
  {
   "cell_type": "code",
   "execution_count": 43,
   "metadata": {
    "collapsed": false,
    "id": "0115944049394D41ADF05B66CD19C2E8",
    "jupyter": {},
    "notebookId": "66a6dc80ff3e499c6ca2d73b",
    "scrolled": false,
    "slideshow": {
     "slide_type": "slide"
    },
    "tags": [],
    "trusted": true
   },
   "outputs": [
    {
     "name": "stdout",
     "output_type": "stream",
     "text": [
      "ab xy\n"
     ]
    }
   ],
   "source": [
    "print('ab XY'.lower())"
   ]
  },
  {
   "cell_type": "markdown",
   "metadata": {
    "collapsed": false,
    "id": "301203A70A5B40809F3744225BF0CB59",
    "jupyter": {},
    "notebookId": "66a6dc80ff3e499c6ca2d73b",
    "runtime": {
     "execution_status": null,
     "is_visible": false,
     "status": "default"
    },
    "scrolled": false,
    "slideshow": {
     "slide_type": "slide"
    },
    "tags": []
   },
   "source": [
    "`S.upper()`"
   ]
  },
  {
   "cell_type": "code",
   "execution_count": 44,
   "metadata": {
    "collapsed": false,
    "id": "506F9190FA63451CA02685B72C0F244E",
    "jupyter": {},
    "notebookId": "66a6dc80ff3e499c6ca2d73b",
    "scrolled": false,
    "slideshow": {
     "slide_type": "slide"
    },
    "tags": [],
    "trusted": true
   },
   "outputs": [
    {
     "name": "stdout",
     "output_type": "stream",
     "text": [
      "AB XY\n"
     ]
    }
   ],
   "source": [
    "print('ab XY'.upper())"
   ]
  },
  {
   "cell_type": "markdown",
   "metadata": {
    "collapsed": false,
    "id": "B89D9B5CE2F54A80860183B8BFE7B613",
    "jupyter": {},
    "notebookId": "66a6dc80ff3e499c6ca2d73b",
    "runtime": {
     "execution_status": null,
     "is_visible": false,
     "status": "default"
    },
    "scrolled": false,
    "slideshow": {
     "slide_type": "slide"
    },
    "tags": []
   },
   "source": [
    "`S.title()`"
   ]
  },
  {
   "cell_type": "code",
   "execution_count": 45,
   "metadata": {
    "collapsed": false,
    "id": "6811619DF07248669769705CDECBCF11",
    "jupyter": {},
    "notebookId": "66a6dc80ff3e499c6ca2d73b",
    "scrolled": false,
    "slideshow": {
     "slide_type": "slide"
    },
    "tags": [],
    "trusted": true
   },
   "outputs": [
    {
     "name": "stdout",
     "output_type": "stream",
     "text": [
      "Ab Xy Cd\n"
     ]
    }
   ],
   "source": [
    "print('ab XY cd'.title())"
   ]
  },
  {
   "cell_type": "markdown",
   "metadata": {
    "collapsed": false,
    "id": "C54932E4CC50485A9C727FA5115F4576",
    "jupyter": {},
    "notebookId": "66a6dc80ff3e499c6ca2d73b",
    "runtime": {
     "execution_status": null,
     "is_visible": false,
     "status": "default"
    },
    "scrolled": false,
    "slideshow": {
     "slide_type": "slide"
    },
    "tags": []
   },
   "source": [
    "`S.capitalize()`"
   ]
  },
  {
   "cell_type": "code",
   "execution_count": 46,
   "metadata": {
    "collapsed": false,
    "id": "A93F28A842FC4D199BF1382104DAF606",
    "jupyter": {},
    "notebookId": "66a6dc80ff3e499c6ca2d73b",
    "scrolled": false,
    "slideshow": {
     "slide_type": "slide"
    },
    "tags": [],
    "trusted": true
   },
   "outputs": [
    {
     "name": "stdout",
     "output_type": "stream",
     "text": [
      "Abc de\n"
     ]
    }
   ],
   "source": [
    "print('abc DE'.capitalize())"
   ]
  },
  {
   "cell_type": "markdown",
   "metadata": {
    "collapsed": false,
    "id": "C9D755EB76E047AEB73375CD393578D1",
    "jupyter": {},
    "notebookId": "66a6dc80ff3e499c6ca2d73b",
    "runtime": {
     "execution_status": null,
     "is_visible": false,
     "status": "default"
    },
    "scrolled": false,
    "slideshow": {
     "slide_type": "slide"
    },
    "tags": []
   },
   "source": [
    "`S.swapcase()`"
   ]
  },
  {
   "cell_type": "code",
   "execution_count": 47,
   "metadata": {
    "collapsed": false,
    "id": "12AE92E7FC4C4D8D94C395890BC163D2",
    "jupyter": {},
    "notebookId": "66a6dc80ff3e499c6ca2d73b",
    "scrolled": false,
    "slideshow": {
     "slide_type": "slide"
    },
    "tags": [],
    "trusted": true
   },
   "outputs": [
    {
     "name": "stdout",
     "output_type": "stream",
     "text": [
      "ABC xyz\n"
     ]
    }
   ],
   "source": [
    "print('abc XYZ'.swapcase())"
   ]
  },
  {
   "cell_type": "markdown",
   "metadata": {
    "collapsed": false,
    "id": "69A6A6DDA1794DE69088F470E55AE0E5",
    "jupyter": {},
    "notebookId": "66a6dc80ff3e499c6ca2d73b",
    "runtime": {
     "execution_status": null,
     "is_visible": false,
     "status": "default"
    },
    "scrolled": false,
    "slideshow": {
     "slide_type": "slide"
    },
    "tags": []
   },
   "source": [
    "#### 判断"
   ]
  },
  {
   "cell_type": "markdown",
   "metadata": {
    "collapsed": false,
    "id": "EA3077385D1C4F819AA3BF22AF7A0E89",
    "jupyter": {},
    "notebookId": "66a6dc80ff3e499c6ca2d73b",
    "runtime": {
     "execution_status": null,
     "is_visible": false,
     "status": "default"
    },
    "scrolled": false,
    "slideshow": {
     "slide_type": "slide"
    },
    "tags": []
   },
   "source": [
    "`S.isdigit()`"
   ]
  },
  {
   "cell_type": "code",
   "execution_count": 48,
   "metadata": {
    "collapsed": false,
    "id": "CB3972FF62FB45AB9987807CF16EF518",
    "jupyter": {},
    "notebookId": "66a6dc80ff3e499c6ca2d73b",
    "scrolled": false,
    "slideshow": {
     "slide_type": "slide"
    },
    "tags": [],
    "trusted": true
   },
   "outputs": [
    {
     "data": {
      "text/plain": [
       "True"
      ]
     },
     "execution_count": 48,
     "metadata": {},
     "output_type": "execute_result"
    }
   ],
   "source": [
    "'34'.isdigit()"
   ]
  },
  {
   "cell_type": "markdown",
   "metadata": {
    "collapsed": false,
    "id": "0E2184EFC4BE4F7BA38C76F840B8CA98",
    "jupyter": {},
    "notebookId": "66a6dc80ff3e499c6ca2d73b",
    "runtime": {
     "execution_status": null,
     "is_visible": false,
     "status": "default"
    },
    "scrolled": false,
    "slideshow": {
     "slide_type": "slide"
    },
    "tags": []
   },
   "source": [
    "`S.isalpha()`"
   ]
  },
  {
   "cell_type": "code",
   "execution_count": 49,
   "metadata": {
    "collapsed": false,
    "id": "735947B628D5424C9078A1B344BA1D02",
    "jupyter": {},
    "notebookId": "66a6dc80ff3e499c6ca2d73b",
    "scrolled": false,
    "slideshow": {
     "slide_type": "slide"
    },
    "tags": [],
    "trusted": true
   },
   "outputs": [
    {
     "data": {
      "text/plain": [
       "True"
      ]
     },
     "execution_count": 49,
     "metadata": {},
     "output_type": "execute_result"
    }
   ],
   "source": [
    "'abc'.isalpha()"
   ]
  },
  {
   "cell_type": "markdown",
   "metadata": {
    "collapsed": false,
    "id": "8994027308B145EC8C141D7407624BD4",
    "jupyter": {},
    "notebookId": "66a6dc80ff3e499c6ca2d73b",
    "runtime": {
     "execution_status": null,
     "is_visible": false,
     "status": "default"
    },
    "scrolled": false,
    "slideshow": {
     "slide_type": "slide"
    },
    "tags": []
   },
   "source": [
    "`S.isalnum()`"
   ]
  },
  {
   "cell_type": "code",
   "execution_count": 50,
   "metadata": {
    "collapsed": false,
    "id": "9EDB256F671441CB9D1D3B23D43106C3",
    "jupyter": {},
    "notebookId": "66a6dc80ff3e499c6ca2d73b",
    "scrolled": false,
    "slideshow": {
     "slide_type": "slide"
    },
    "tags": [],
    "trusted": true
   },
   "outputs": [
    {
     "data": {
      "text/plain": [
       "True"
      ]
     },
     "execution_count": 50,
     "metadata": {},
     "output_type": "execute_result"
    }
   ],
   "source": [
    "'a34'.isalnum()"
   ]
  },
  {
   "cell_type": "markdown",
   "metadata": {
    "collapsed": false,
    "id": "2F82178786B9463BB6F3A63A560D3118",
    "jupyter": {},
    "notebookId": "66a6dc80ff3e499c6ca2d73b",
    "runtime": {
     "execution_status": null,
     "is_visible": false,
     "status": "default"
    },
    "scrolled": false,
    "slideshow": {
     "slide_type": "slide"
    },
    "tags": []
   },
   "source": [
    "`S.isidentifier()`"
   ]
  },
  {
   "cell_type": "code",
   "execution_count": 51,
   "metadata": {
    "collapsed": false,
    "id": "7C571DA661DE4A1B9CD9F8E234A46C52",
    "jupyter": {},
    "notebookId": "66a6dc80ff3e499c6ca2d73b",
    "scrolled": false,
    "slideshow": {
     "slide_type": "slide"
    },
    "tags": [],
    "trusted": true
   },
   "outputs": [
    {
     "data": {
      "text/plain": [
       "True"
      ]
     },
     "execution_count": 51,
     "metadata": {},
     "output_type": "execute_result"
    }
   ],
   "source": [
    "'a34'.isidentifier()"
   ]
  },
  {
   "cell_type": "code",
   "execution_count": 52,
   "metadata": {
    "collapsed": false,
    "id": "5C69A7F77CA44B3B8017F8C3ADFE8D16",
    "jupyter": {},
    "notebookId": "66a6dc80ff3e499c6ca2d73b",
    "scrolled": false,
    "slideshow": {
     "slide_type": "slide"
    },
    "tags": [],
    "trusted": true
   },
   "outputs": [
    {
     "data": {
      "text/plain": [
       "False"
      ]
     },
     "execution_count": 52,
     "metadata": {},
     "output_type": "execute_result"
    }
   ],
   "source": [
    "'23a34'.isidentifier()"
   ]
  },
  {
   "cell_type": "markdown",
   "metadata": {
    "collapsed": false,
    "id": "FEE197C0C3EC49D1AA6C2238FDAEC70A",
    "jupyter": {},
    "notebookId": "66a6dc80ff3e499c6ca2d73b",
    "runtime": {
     "execution_status": null,
     "is_visible": false,
     "status": "default"
    },
    "scrolled": false,
    "slideshow": {
     "slide_type": "slide"
    },
    "tags": []
   },
   "source": [
    "#### 填充"
   ]
  },
  {
   "cell_type": "markdown",
   "metadata": {
    "collapsed": false,
    "id": "AF1D69B71505481F9E2066083F1E8A7C",
    "jupyter": {},
    "notebookId": "66a6dc80ff3e499c6ca2d73b",
    "runtime": {
     "execution_status": null,
     "is_visible": false,
     "status": "default"
    },
    "scrolled": false,
    "slideshow": {
     "slide_type": "slide"
    },
    "tags": []
   },
   "source": [
    "`S.center(width[, fillchar])`"
   ]
  },
  {
   "cell_type": "code",
   "execution_count": 53,
   "metadata": {
    "collapsed": false,
    "id": "F1F27235B7234088A24D3D60D3A1BD03",
    "jupyter": {},
    "notebookId": "66a6dc80ff3e499c6ca2d73b",
    "scrolled": false,
    "slideshow": {
     "slide_type": "slide"
    },
    "tags": [],
    "trusted": true
   },
   "outputs": [
    {
     "name": "stdout",
     "output_type": "stream",
     "text": [
      "_ab_\n"
     ]
    }
   ],
   "source": [
    "print('ab'.center(4,'_'))"
   ]
  },
  {
   "cell_type": "code",
   "execution_count": 54,
   "metadata": {
    "collapsed": false,
    "id": "B8BFA6E1AC3343E0A7A19AD42E80C730",
    "jupyter": {},
    "notebookId": "66a6dc80ff3e499c6ca2d73b",
    "scrolled": false,
    "slideshow": {
     "slide_type": "slide"
    },
    "tags": [],
    "trusted": true
   },
   "outputs": [
    {
     "name": "stdout",
     "output_type": "stream",
     "text": [
      " ab \n"
     ]
    }
   ],
   "source": [
    "print('ab'.center(4))"
   ]
  },
  {
   "cell_type": "code",
   "execution_count": 55,
   "metadata": {
    "collapsed": false,
    "id": "9981CED548C24796878CC058B97990D7",
    "jupyter": {},
    "notebookId": "66a6dc80ff3e499c6ca2d73b",
    "scrolled": false,
    "slideshow": {
     "slide_type": "slide"
    },
    "tags": [],
    "trusted": true
   },
   "outputs": [
    {
     "name": "stdout",
     "output_type": "stream",
     "text": [
      "abcde\n"
     ]
    }
   ],
   "source": [
    "print('abcde'.center(3))"
   ]
  },
  {
   "cell_type": "markdown",
   "metadata": {
    "collapsed": false,
    "id": "1DD425923B6F4161AFA6FB40FFCCEAD1",
    "jupyter": {},
    "notebookId": "66a6dc80ff3e499c6ca2d73b",
    "runtime": {
     "execution_status": null,
     "is_visible": false,
     "status": "default"
    },
    "scrolled": false,
    "slideshow": {
     "slide_type": "slide"
    },
    "tags": []
   },
   "source": [
    "`S.ljust(width[, fillchar])`"
   ]
  },
  {
   "cell_type": "code",
   "execution_count": 56,
   "metadata": {
    "collapsed": false,
    "id": "BA2878AB866B4E758B53C6FAF1A11531",
    "jupyter": {},
    "notebookId": "66a6dc80ff3e499c6ca2d73b",
    "scrolled": false,
    "slideshow": {
     "slide_type": "slide"
    },
    "tags": [],
    "trusted": true
   },
   "outputs": [
    {
     "name": "stdout",
     "output_type": "stream",
     "text": [
      "xyz__\n"
     ]
    }
   ],
   "source": [
    "print('xyz'.ljust(5,'_'))"
   ]
  },
  {
   "cell_type": "markdown",
   "metadata": {
    "collapsed": false,
    "id": "974F3B265FF44797A6FE7285888F85B2",
    "jupyter": {},
    "notebookId": "66a6dc80ff3e499c6ca2d73b",
    "runtime": {
     "execution_status": null,
     "is_visible": false,
     "status": "default"
    },
    "scrolled": false,
    "slideshow": {
     "slide_type": "slide"
    },
    "tags": []
   },
   "source": [
    "`S.rjust(width[, fillchar])`"
   ]
  },
  {
   "cell_type": "code",
   "execution_count": 57,
   "metadata": {
    "collapsed": false,
    "id": "82EA36BCC30A4E1EBBD377872AF0B300",
    "jupyter": {},
    "notebookId": "66a6dc80ff3e499c6ca2d73b",
    "scrolled": false,
    "slideshow": {
     "slide_type": "slide"
    },
    "tags": [],
    "trusted": true
   },
   "outputs": [
    {
     "name": "stdout",
     "output_type": "stream",
     "text": [
      "__xyz\n"
     ]
    }
   ],
   "source": [
    "print('xyz'.rjust(5,'_'))"
   ]
  },
  {
   "cell_type": "markdown",
   "metadata": {
    "collapsed": false,
    "id": "B913CF553D2440829F773878D74E13DE",
    "jupyter": {},
    "notebookId": "66a6dc80ff3e499c6ca2d73b",
    "runtime": {
     "execution_status": null,
     "is_visible": false,
     "status": "default"
    },
    "scrolled": false,
    "slideshow": {
     "slide_type": "slide"
    },
    "tags": []
   },
   "source": [
    "#### 修剪"
   ]
  },
  {
   "cell_type": "markdown",
   "metadata": {
    "collapsed": false,
    "id": "A5FE181230B0452DA841B4A70336A676",
    "jupyter": {},
    "notebookId": "66a6dc80ff3e499c6ca2d73b",
    "runtime": {
     "execution_status": null,
     "is_visible": false,
     "status": "default"
    },
    "scrolled": false,
    "slideshow": {
     "slide_type": "slide"
    },
    "tags": []
   },
   "source": [
    "`S.strip([chars])`  \n",
    "\n",
    "`S.lstrip([chars])`  \n",
    "\n",
    "\n",
    "`S.rstrip([chars])`"
   ]
  },
  {
   "cell_type": "markdown",
   "metadata": {
    "collapsed": false,
    "id": "1440D3D78C1E4248919EFF9ED4D60B9C",
    "jupyter": {},
    "notebookId": "66a6dc80ff3e499c6ca2d73b",
    "runtime": {
     "execution_status": null,
     "is_visible": false,
     "status": "default"
    },
    "scrolled": false,
    "slideshow": {
     "slide_type": "slide"
    },
    "tags": []
   },
   "source": [
    "移除单个字符或空白。"
   ]
  },
  {
   "cell_type": "code",
   "execution_count": 58,
   "metadata": {
    "collapsed": false,
    "id": "E3677274BFA7408A9644EC545EC41CBA",
    "jupyter": {},
    "notebookId": "66a6dc80ff3e499c6ca2d73b",
    "scrolled": false,
    "slideshow": {
     "slide_type": "slide"
    },
    "tags": [],
    "trusted": true
   },
   "outputs": [
    {
     "data": {
      "text/plain": [
       "'spacious'"
      ]
     },
     "execution_count": 58,
     "metadata": {},
     "output_type": "execute_result"
    }
   ],
   "source": [
    "'   spacious   '.strip()"
   ]
  },
  {
   "cell_type": "code",
   "execution_count": 59,
   "metadata": {
    "collapsed": false,
    "id": "289F8B3C6E284430A09B9A840BC2DC4C",
    "jupyter": {},
    "notebookId": "66a6dc80ff3e499c6ca2d73b",
    "scrolled": false,
    "slideshow": {
     "slide_type": "slide"
    },
    "tags": [],
    "trusted": true
   },
   "outputs": [
    {
     "data": {
      "text/plain": [
       "'spacious   '"
      ]
     },
     "execution_count": 59,
     "metadata": {},
     "output_type": "execute_result"
    }
   ],
   "source": [
    "'   spacious   '.lstrip()"
   ]
  },
  {
   "cell_type": "code",
   "execution_count": 60,
   "metadata": {
    "collapsed": false,
    "id": "9735CBA3DA964DA9AD41A40899A2713F",
    "jupyter": {},
    "notebookId": "66a6dc80ff3e499c6ca2d73b",
    "scrolled": false,
    "slideshow": {
     "slide_type": "slide"
    },
    "tags": [],
    "trusted": true
   },
   "outputs": [
    {
     "data": {
      "text/plain": [
       "'   spacious'"
      ]
     },
     "execution_count": 60,
     "metadata": {},
     "output_type": "execute_result"
    }
   ],
   "source": [
    "'   spacious   '.rstrip()"
   ]
  },
  {
   "cell_type": "markdown",
   "metadata": {
    "collapsed": false,
    "id": "2E608850CB4C42D693E92CD72529544B",
    "jupyter": {},
    "notebookId": "66a6dc80ff3e499c6ca2d73b",
    "runtime": {
     "execution_status": null,
     "is_visible": false,
     "status": "default"
    },
    "scrolled": false,
    "slideshow": {
     "slide_type": "slide"
    },
    "tags": []
   },
   "source": [
    "移除字符序列中的字符。"
   ]
  },
  {
   "cell_type": "code",
   "execution_count": 61,
   "metadata": {
    "collapsed": false,
    "id": "9376787851EC415C97532D8C516B9069",
    "jupyter": {},
    "notebookId": "66a6dc80ff3e499c6ca2d73b",
    "scrolled": false,
    "slideshow": {
     "slide_type": "slide"
    },
    "tags": [],
    "trusted": true
   },
   "outputs": [
    {
     "name": "stdout",
     "output_type": "stream",
     "text": [
      "example.com\n"
     ]
    }
   ],
   "source": [
    "print('www.example.com'.lstrip('cmowz.'))"
   ]
  },
  {
   "cell_type": "code",
   "execution_count": 62,
   "metadata": {
    "collapsed": false,
    "id": "6E51301DD3BA49C5897936C793D6378E",
    "jupyter": {},
    "notebookId": "66a6dc80ff3e499c6ca2d73b",
    "scrolled": false,
    "slideshow": {
     "slide_type": "slide"
    },
    "tags": [],
    "trusted": true
   },
   "outputs": [
    {
     "name": "stdout",
     "output_type": "stream",
     "text": [
      "example.com\n"
     ]
    }
   ],
   "source": [
    "print('wwwz.example.com'.lstrip('cmowz.'))"
   ]
  },
  {
   "cell_type": "code",
   "execution_count": 63,
   "metadata": {
    "collapsed": false,
    "id": "B29FA4F4228F4E329037C97BF08878ED",
    "jupyter": {},
    "notebookId": "66a6dc80ff3e499c6ca2d73b",
    "scrolled": false,
    "slideshow": {
     "slide_type": "slide"
    },
    "tags": [],
    "trusted": true
   },
   "outputs": [
    {
     "name": "stdout",
     "output_type": "stream",
     "text": [
      "aw.example.com\n"
     ]
    }
   ],
   "source": [
    "print('wwaw.example.com'.lstrip('cmowz.'))"
   ]
  },
  {
   "cell_type": "code",
   "execution_count": 64,
   "metadata": {
    "collapsed": false,
    "id": "E64EB5AB116B4AEBBD2065B139D91579",
    "jupyter": {},
    "notebookId": "66a6dc80ff3e499c6ca2d73b",
    "scrolled": false,
    "slideshow": {
     "slide_type": "slide"
    },
    "tags": [],
    "trusted": true
   },
   "outputs": [
    {
     "name": "stdout",
     "output_type": "stream",
     "text": [
      "example\n"
     ]
    }
   ],
   "source": [
    "print('www.example.com'.strip('cmowz.'))"
   ]
  },
  {
   "cell_type": "markdown",
   "metadata": {
    "collapsed": false,
    "id": "82014728953045DD90F3CDA02EB336EA",
    "jupyter": {},
    "notebookId": "66a6dc80ff3e499c6ca2d73b",
    "runtime": {
     "execution_status": null,
     "is_visible": false,
     "status": "default"
    },
    "scrolled": false,
    "slideshow": {
     "slide_type": "slide"
    },
    "tags": []
   },
   "source": [
    "#### 搜索"
   ]
  },
  {
   "cell_type": "markdown",
   "metadata": {
    "collapsed": false,
    "id": "60675BD84F364D07AF988802A390E7E5",
    "jupyter": {},
    "notebookId": "66a6dc80ff3e499c6ca2d73b",
    "runtime": {
     "execution_status": null,
     "is_visible": false,
     "status": "default"
    },
    "scrolled": false,
    "slideshow": {
     "slide_type": "slide"
    },
    "tags": []
   },
   "source": [
    "`S.count(sub[, start[, end]])`"
   ]
  },
  {
   "cell_type": "code",
   "execution_count": 65,
   "metadata": {
    "collapsed": false,
    "id": "E3F6D72713DE4C169A1924B0788C725D",
    "jupyter": {},
    "notebookId": "66a6dc80ff3e499c6ca2d73b",
    "scrolled": false,
    "slideshow": {
     "slide_type": "slide"
    },
    "tags": [],
    "trusted": true
   },
   "outputs": [
    {
     "name": "stdout",
     "output_type": "stream",
     "text": [
      "3\n"
     ]
    }
   ],
   "source": [
    "print('xyabxyxy'.count('xy'))"
   ]
  },
  {
   "cell_type": "code",
   "execution_count": 66,
   "metadata": {
    "collapsed": false,
    "id": "8B88B6A148274413A5950F83465C7144",
    "jupyter": {},
    "notebookId": "66a6dc80ff3e499c6ca2d73b",
    "scrolled": false,
    "slideshow": {
     "slide_type": "slide"
    },
    "tags": [],
    "trusted": true
   },
   "outputs": [
    {
     "name": "stdout",
     "output_type": "stream",
     "text": [
      "2\n"
     ]
    }
   ],
   "source": [
    "# 次数2，因为从index=1算起，即从'y'开始查找，查找的范围为'yabxyxy'\n",
    "\n",
    "print('xyabxyxy'.count('xy', 1))"
   ]
  },
  {
   "cell_type": "code",
   "execution_count": 67,
   "metadata": {
    "collapsed": false,
    "id": "6CFE1D4529E14AE48CD72F4E357F2C3F",
    "jupyter": {},
    "notebookId": "66a6dc80ff3e499c6ca2d73b",
    "scrolled": false,
    "slideshow": {
     "slide_type": "slide"
    },
    "tags": [],
    "trusted": true
   },
   "outputs": [
    {
     "name": "stdout",
     "output_type": "stream",
     "text": [
      "1\n"
     ]
    }
   ],
   "source": [
    "# 次数1，因为不包括end，所以查找的范围为'yabxyx'\n",
    "\n",
    "print('xyabxyxy'.count('xy', 1, 7))"
   ]
  },
  {
   "cell_type": "markdown",
   "metadata": {
    "collapsed": false,
    "id": "CA22C32956AB4962AD61C4E3FADA031D",
    "jupyter": {},
    "notebookId": "66a6dc80ff3e499c6ca2d73b",
    "runtime": {
     "execution_status": null,
     "is_visible": false,
     "status": "default"
    },
    "scrolled": false,
    "slideshow": {
     "slide_type": "slide"
    },
    "tags": []
   },
   "source": [
    "`S.endswith(suffix[, start[, end]])`  \n",
    "\n",
    "`S.startswith(prefix[, start[, end]])`"
   ]
  },
  {
   "cell_type": "code",
   "execution_count": 68,
   "metadata": {
    "collapsed": false,
    "id": "4B23C93717CE42A99D29921E5D0E8FA5",
    "jupyter": {},
    "notebookId": "66a6dc80ff3e499c6ca2d73b",
    "scrolled": false,
    "slideshow": {
     "slide_type": "slide"
    },
    "tags": [],
    "trusted": true
   },
   "outputs": [
    {
     "name": "stdout",
     "output_type": "stream",
     "text": [
      "True\n"
     ]
    }
   ],
   "source": [
    "print('abcxyz'.endswith('xyz'))"
   ]
  },
  {
   "cell_type": "code",
   "execution_count": 69,
   "metadata": {
    "collapsed": false,
    "id": "797ACD4F77ED4251A13F971224E3012A",
    "jupyter": {},
    "notebookId": "66a6dc80ff3e499c6ca2d73b",
    "scrolled": false,
    "slideshow": {
     "slide_type": "slide"
    },
    "tags": [],
    "trusted": true
   },
   "outputs": [
    {
     "name": "stdout",
     "output_type": "stream",
     "text": [
      "False\n"
     ]
    }
   ],
   "source": [
    "print('abcxyz'.endswith('xyz',4))  # False，因为搜索范围为'yz'"
   ]
  },
  {
   "cell_type": "code",
   "execution_count": 70,
   "metadata": {
    "collapsed": false,
    "id": "8E6EDA54520145C7B152FE291364361A",
    "jupyter": {},
    "notebookId": "66a6dc80ff3e499c6ca2d73b",
    "scrolled": false,
    "slideshow": {
     "slide_type": "slide"
    },
    "tags": [],
    "trusted": true
   },
   "outputs": [
    {
     "name": "stdout",
     "output_type": "stream",
     "text": [
      "False\n"
     ]
    }
   ],
   "source": [
    "# False，因为搜索范围为'abcxy'\n",
    "print('abcxyz'.endswith('xyz',0,5))"
   ]
  },
  {
   "cell_type": "markdown",
   "metadata": {
    "collapsed": false,
    "id": "BD2494C41B50416F807E2CECA66E4A90",
    "jupyter": {},
    "notebookId": "66a6dc80ff3e499c6ca2d73b",
    "runtime": {
     "execution_status": null,
     "is_visible": false,
     "status": "default"
    },
    "scrolled": false,
    "slideshow": {
     "slide_type": "slide"
    },
    "tags": []
   },
   "source": [
    "#### 替换"
   ]
  },
  {
   "cell_type": "markdown",
   "metadata": {
    "collapsed": false,
    "id": "8611E5867C3842A0BE5A3AA054ED9A47",
    "jupyter": {},
    "notebookId": "66a6dc80ff3e499c6ca2d73b",
    "runtime": {
     "execution_status": null,
     "is_visible": false,
     "status": "default"
    },
    "scrolled": false,
    "slideshow": {
     "slide_type": "slide"
    },
    "tags": []
   },
   "source": [
    "`S.replace(old, new[, count])`"
   ]
  },
  {
   "cell_type": "code",
   "execution_count": 71,
   "metadata": {
    "collapsed": false,
    "id": "DD473DA598994AF89E3BADA3F3B90408",
    "jupyter": {},
    "notebookId": "66a6dc80ff3e499c6ca2d73b",
    "scrolled": false,
    "slideshow": {
     "slide_type": "slide"
    },
    "tags": [],
    "trusted": true
   },
   "outputs": [
    {
     "name": "stdout",
     "output_type": "stream",
     "text": [
      "abcXYzoXY\n"
     ]
    }
   ],
   "source": [
    "print('abcxyzoxy'.replace('xy','XY'))"
   ]
  },
  {
   "cell_type": "code",
   "execution_count": 72,
   "metadata": {
    "collapsed": false,
    "id": "D891F0ADCA8D420489409E1F2CBA74E8",
    "jupyter": {},
    "notebookId": "66a6dc80ff3e499c6ca2d73b",
    "scrolled": false,
    "slideshow": {
     "slide_type": "slide"
    },
    "tags": [],
    "trusted": true
   },
   "outputs": [
    {
     "name": "stdout",
     "output_type": "stream",
     "text": [
      "abcXYzoxy\n"
     ]
    }
   ],
   "source": [
    "print('abcxyzoxy'.replace('xy','XY',1))"
   ]
  },
  {
   "cell_type": "markdown",
   "metadata": {
    "collapsed": false,
    "id": "DF819F8DABA94B2FB4247D77FF004F11",
    "jupyter": {},
    "notebookId": "66a6dc80ff3e499c6ca2d73b",
    "runtime": {
     "execution_status": null,
     "is_visible": false,
     "status": "default"
    },
    "scrolled": false,
    "slideshow": {
     "slide_type": "slide"
    },
    "tags": []
   },
   "source": [
    "#### 分割"
   ]
  },
  {
   "cell_type": "markdown",
   "metadata": {
    "collapsed": false,
    "id": "6F75F68E697041EB87A11FEDC5503ABA",
    "jupyter": {},
    "notebookId": "66a6dc80ff3e499c6ca2d73b",
    "runtime": {
     "execution_status": null,
     "is_visible": false,
     "status": "default"
    },
    "scrolled": false,
    "slideshow": {
     "slide_type": "slide"
    },
    "tags": []
   },
   "source": [
    "`S.partition(sep)`  \n",
    "\n",
    "`S.rpartition(sep)`"
   ]
  },
  {
   "cell_type": "code",
   "execution_count": 73,
   "metadata": {
    "collapsed": false,
    "id": "FE56AE7BEB8D44079CAC6A0C0E9F9D98",
    "jupyter": {},
    "notebookId": "66a6dc80ff3e499c6ca2d73b",
    "scrolled": false,
    "slideshow": {
     "slide_type": "slide"
    },
    "tags": [],
    "trusted": true
   },
   "outputs": [
    {
     "name": "stdout",
     "output_type": "stream",
     "text": [
      "('abc', 'xy', 'zxyopq')\n",
      "('abcxyz', 'xy', 'opq')\n"
     ]
    }
   ],
   "source": [
    "# 搜索到多个sep时，分别从左第一个、右第一个sep分割\n",
    "\n",
    "print('abcxyzxyopq'.partition('xy'))\n",
    "\n",
    "print('abcxyzxyopq'.rpartition('xy'))"
   ]
  },
  {
   "cell_type": "markdown",
   "metadata": {
    "collapsed": false,
    "id": "9E6B6F1E68FC4E7E90280D32E6ECE171",
    "jupyter": {},
    "notebookId": "66a6dc80ff3e499c6ca2d73b",
    "runtime": {
     "execution_status": null,
     "is_visible": false,
     "status": "default"
    },
    "scrolled": false,
    "slideshow": {
     "slide_type": "slide"
    },
    "tags": []
   },
   "source": [
    "`S.split(sep=None, maxsplit=-1)`  \n",
    "\n",
    "`S.rsplit(sep=None, maxsplit=-1)`"
   ]
  },
  {
   "cell_type": "code",
   "execution_count": 74,
   "metadata": {
    "collapsed": false,
    "id": "E4027A187927487284AD0CB80119903A",
    "jupyter": {},
    "notebookId": "66a6dc80ff3e499c6ca2d73b",
    "scrolled": false,
    "slideshow": {
     "slide_type": "slide"
    },
    "tags": [],
    "trusted": true
   },
   "outputs": [
    {
     "data": {
      "text/plain": [
       "['1', '2', '3']"
      ]
     },
     "execution_count": 74,
     "metadata": {},
     "output_type": "execute_result"
    }
   ],
   "source": [
    "'1,2,3'.split(',')"
   ]
  },
  {
   "cell_type": "code",
   "execution_count": 75,
   "metadata": {
    "collapsed": false,
    "id": "8930A0CFFDE04154993241D88AF893CA",
    "jupyter": {},
    "notebookId": "66a6dc80ff3e499c6ca2d73b",
    "scrolled": false,
    "slideshow": {
     "slide_type": "slide"
    },
    "tags": [],
    "trusted": true
   },
   "outputs": [
    {
     "data": {
      "text/plain": [
       "['1', '2,3']"
      ]
     },
     "execution_count": 75,
     "metadata": {},
     "output_type": "execute_result"
    }
   ],
   "source": [
    "'1,2,3'.split(',',1)  # 只分割了一次"
   ]
  },
  {
   "cell_type": "code",
   "execution_count": 76,
   "metadata": {
    "collapsed": false,
    "id": "2CE2B8FC01494579A9DB8E8A74321504",
    "jupyter": {},
    "notebookId": "66a6dc80ff3e499c6ca2d73b",
    "scrolled": false,
    "slideshow": {
     "slide_type": "slide"
    },
    "tags": [],
    "trusted": true
   },
   "outputs": [
    {
     "data": {
      "text/plain": [
       "['<hello>', '<world>']"
      ]
     },
     "execution_count": 76,
     "metadata": {},
     "output_type": "execute_result"
    }
   ],
   "source": [
    "# sep为多个字符时\n",
    "\n",
    "'<hello><><world>'.split('<>')"
   ]
  },
  {
   "cell_type": "markdown",
   "metadata": {
    "collapsed": false,
    "id": "50E5D35AAC89408D9AC473F7F60108A2",
    "jupyter": {},
    "notebookId": "66a6dc80ff3e499c6ca2d73b",
    "runtime": {
     "execution_status": null,
     "is_visible": false,
     "status": "default"
    },
    "scrolled": false,
    "slideshow": {
     "slide_type": "slide"
    },
    "tags": []
   },
   "source": [
    "#### 合并"
   ]
  },
  {
   "cell_type": "markdown",
   "metadata": {
    "collapsed": false,
    "id": "8189934F219C4433AB360500463C7BAD",
    "jupyter": {},
    "notebookId": "66a6dc80ff3e499c6ca2d73b",
    "runtime": {
     "execution_status": null,
     "is_visible": false,
     "status": "default"
    },
    "scrolled": false,
    "slideshow": {
     "slide_type": "slide"
    },
    "tags": []
   },
   "source": [
    "`S.join(iterable)`"
   ]
  },
  {
   "cell_type": "code",
   "execution_count": 77,
   "metadata": {
    "collapsed": false,
    "id": "4E827FF10D69420A8295E29F6B6DCD6F",
    "jupyter": {},
    "notebookId": "66a6dc80ff3e499c6ca2d73b",
    "scrolled": false,
    "slideshow": {
     "slide_type": "slide"
    },
    "tags": [],
    "trusted": true
   },
   "outputs": [
    {
     "data": {
      "text/plain": [
       "'p_y_t_h_o_n'"
      ]
     },
     "execution_count": 77,
     "metadata": {},
     "output_type": "execute_result"
    }
   ],
   "source": [
    "L='python'\n",
    "'_'.join(L)"
   ]
  },
  {
   "cell_type": "code",
   "execution_count": 78,
   "metadata": {
    "collapsed": false,
    "id": "69E1B22780FC40F18F26CA202FCBA13A",
    "jupyter": {},
    "notebookId": "66a6dc80ff3e499c6ca2d73b",
    "scrolled": false,
    "slideshow": {
     "slide_type": "slide"
    },
    "tags": [],
    "trusted": true
   },
   "outputs": [
    {
     "data": {
      "text/plain": [
       "'1_2_3'"
      ]
     },
     "execution_count": 78,
     "metadata": {},
     "output_type": "execute_result"
    }
   ],
   "source": [
    "L1=('1','2','3')\n",
    "'_'.join(L1)"
   ]
  },
  {
   "cell_type": "code",
   "execution_count": 79,
   "metadata": {
    "collapsed": false,
    "id": "1B1A4C61F36B4B64BF15B07BDF976520",
    "jupyter": {},
    "notebookId": "66a6dc80ff3e499c6ca2d73b",
    "scrolled": false,
    "slideshow": {
     "slide_type": "slide"
    },
    "tags": [],
    "trusted": true
   },
   "outputs": [
    {
     "data": {
      "text/plain": [
       "'py_th_o_n'"
      ]
     },
     "execution_count": 79,
     "metadata": {},
     "output_type": "execute_result"
    }
   ],
   "source": [
    "L2=['py','th','o','n']\n",
    "\n",
    "'_'.join(L2)"
   ]
  },
  {
   "cell_type": "code",
   "execution_count": 80,
   "metadata": {
    "collapsed": false,
    "id": "045C0B1EEAD146A59F18F8C859F825F8",
    "jupyter": {},
    "notebookId": "66a6dc80ff3e499c6ca2d73b",
    "scrolled": false,
    "slideshow": {
     "slide_type": "slide"
    },
    "tags": [],
    "trusted": true
   },
   "outputs": [
    {
     "data": {
      "text/plain": [
       "'name_gender_from_age'"
      ]
     },
     "execution_count": 80,
     "metadata": {},
     "output_type": "execute_result"
    }
   ],
   "source": [
    "L3={'name':\"malongshuai\",'gender':'male','from':'China','age':18}\n",
    "\n",
    "'_'.join(L3)"
   ]
  }
 ],
 "metadata": {
  "kernelspec": {
   "display_name": "HiMCM",
   "language": "python",
   "name": "python3"
  },
  "language_info": {
   "codemirror_mode": {
    "name": "ipython",
    "version": 3
   },
   "file_extension": ".py",
   "mimetype": "text/x-python",
   "name": "python",
   "nbconvert_exporter": "python",
   "pygments_lexer": "ipython3",
   "version": "3.12.9"
  }
 },
 "nbformat": 4,
 "nbformat_minor": 5
}
