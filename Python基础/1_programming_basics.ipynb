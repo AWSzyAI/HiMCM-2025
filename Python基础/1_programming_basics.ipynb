{
 "cells": [
  {
   "cell_type": "markdown",
   "metadata": {
    "collapsed": false,
    "id": "C38493ABC22A48AC95CBC287F2107C49",
    "jupyter": {},
    "notebookId": "66a6dc7fff3e499c6ca2d725",
    "runtime": {
     "execution_status": null,
     "is_visible": false,
     "status": "default"
    },
    "scrolled": false,
    "slideshow": {
     "slide_type": "slide"
    },
    "tags": []
   },
   "source": [
    "# What is Python?"
   ]
  },
  {
   "cell_type": "markdown",
   "metadata": {
    "collapsed": false,
    "id": "EAFA239763A94BC98FD14850C08E637E",
    "jupyter": {},
    "notebookId": "66a6dc7fff3e499c6ca2d725",
    "runtime": {
     "execution_status": null,
     "is_visible": false,
     "status": "default"
    },
    "scrolled": false,
    "slideshow": {
     "slide_type": "slide"
    },
    "tags": []
   },
   "source": [
    "## Python Features "
   ]
  },
  {
   "cell_type": "markdown",
   "metadata": {
    "collapsed": false,
    "id": "80A8BB8A808D44C7B66B1387A694BEB8",
    "jupyter": {},
    "notebookId": "66a6dc7fff3e499c6ca2d725",
    "runtime": {
     "execution_status": null,
     "is_visible": false,
     "status": "default"
    },
    "scrolled": false,
    "slideshow": {
     "slide_type": "slide"
    },
    "tags": []
   },
   "source": [
    "Characteristics of Python:  \n",
    "\n",
    "- **Easy-to-learn** : Python has few keywords, simple structure, and a clearly defined syntax. This allows the student to pick up the language quickly.  \n",
    "- **Easy-to-read** : Python code is more clearly defined and visible to the eyes.  \n",
    "- **Popularity** : because of Python's popularity, it has now a very large community. With this large community, comes larger support groups in terms of coding solutions.  \n",
    "- **Versatility** : you can use Python not only as a programming language, but also to build websites, scrape the web for information, analyze or visualize data.  \n",
    "- **Machine Learning and Big Data** : Most platforms today rely on AI and Big Data, which Python supports with its vast libraries."
   ]
  },
  {
   "cell_type": "markdown",
   "metadata": {
    "collapsed": false,
    "id": "5D87E6C9A2F343B8A50D424BCB9AD162",
    "jupyter": {},
    "notebookId": "66a6dc7fff3e499c6ca2d725",
    "runtime": {
     "execution_status": null,
     "is_visible": false,
     "status": "default"
    },
    "scrolled": false,
    "slideshow": {
     "slide_type": "slide"
    },
    "tags": []
   },
   "source": [
    "## Install Python"
   ]
  },
  {
   "cell_type": "markdown",
   "metadata": {
    "collapsed": false,
    "id": "55F9579381784C5D92198F19B52D0E64",
    "jupyter": {},
    "notebookId": "66a6dc7fff3e499c6ca2d725",
    "runtime": {
     "execution_status": null,
     "is_visible": false,
     "status": "default"
    },
    "scrolled": false,
    "slideshow": {
     "slide_type": "slide"
    },
    "tags": []
   },
   "source": [
    "### Official Python  \n",
    "\n",
    "- https://www.python.org/downloads/  \n",
    "\n",
    "Windows, Linux, MacOS  \n"
   ]
  },
  {
   "cell_type": "markdown",
   "metadata": {
    "collapsed": false,
    "id": "AC0D157AC2F0413E918EC878FB31C825",
    "jupyter": {},
    "notebookId": "66a6dc7fff3e499c6ca2d725",
    "runtime": {
     "execution_status": null,
     "is_visible": false,
     "status": "default"
    },
    "scrolled": false,
    "slideshow": {
     "slide_type": "slide"
    },
    "tags": []
   },
   "source": [
    "### Miniconda  \n",
    "\n",
    "- https://docs.conda.io/en/latest/miniconda.html  \n",
    "\n",
    "Miniconda is a free minimal installer for conda. It is a small, bootstrap version of Anaconda that includes only conda, Python, the packages they depend on, and a small number of other useful packages, including pip, zlib and a few others."
   ]
  },
  {
   "cell_type": "markdown",
   "metadata": {
    "collapsed": false,
    "id": "C45EABD7A49E4F14B9CBB30D0B88E0BB",
    "jupyter": {},
    "notebookId": "66a6dc7fff3e499c6ca2d725",
    "runtime": {
     "execution_status": null,
     "is_visible": false,
     "status": "default"
    },
    "scrolled": false,
    "slideshow": {
     "slide_type": "slide"
    },
    "tags": []
   },
   "source": [
    "**Benefits of Using Python Anaconda**:  \n",
    "\n",
    "- It is free and open-source  \n",
    "- It has more than 1500 Python/R data science packages  \n",
    "- Anaconda simplifies package management and deployment  \n",
    "- It has tools to easily collect data from sources using machine learning and AI  \n",
    "- It creates an environment that is easily manageable for deploying any project  \n",
    "- Anaconda is the industry standard for developing, testing and training on a single machine  \n",
    "- It has good community support- you can ask your questions there.  \n",
    "\n",
    "What you get  \n",
    "\n",
    "- Download more than 1500 Python/R data science packages  \n",
    "- Manage libraries, dependencies, and environments with conda  \n",
    "- Build and train ML and deep learning models with scikit-learn, TensorFlow and Theano  \n",
    "- Use Dask, NumPy, Pandas and Numba to analyze data scalably and fast  \n",
    "- Perform visualization with Matplotlib, Bokeh, Datashader, and Holoviews"
   ]
  },
  {
   "cell_type": "markdown",
   "metadata": {
    "collapsed": false,
    "id": "D6633A6492EF49688B5AE9DC61333256",
    "jupyter": {},
    "notebookId": "66a6dc7fff3e499c6ca2d725",
    "runtime": {
     "execution_status": null,
     "is_visible": false,
     "status": "default"
    },
    "scrolled": false,
    "slideshow": {
     "slide_type": "slide"
    },
    "tags": []
   },
   "source": [
    "## Install packages"
   ]
  },
  {
   "cell_type": "markdown",
   "metadata": {
    "collapsed": false,
    "id": "0612556CE16D403386892AA8826EC91A",
    "jupyter": {},
    "notebookId": "66a6dc7fff3e499c6ca2d725",
    "runtime": {
     "execution_status": null,
     "is_visible": false,
     "status": "default"
    },
    "scrolled": false,
    "slideshow": {
     "slide_type": "slide"
    },
    "tags": []
   },
   "source": [
    "### pip  \n",
    "\n",
    "```bash  \n",
    "\n",
    "pip install xxx  \n",
    "\n",
    "pip install xxx == 1.3  \n",
    "```"
   ]
  },
  {
   "cell_type": "markdown",
   "metadata": {
    "collapsed": false,
    "id": "DAE76CDBABD647B391B2B31C1F3BAD50",
    "jupyter": {},
    "notebookId": "66a6dc7fff3e499c6ca2d725",
    "runtime": {
     "execution_status": null,
     "is_visible": false,
     "status": "default"
    },
    "scrolled": false,
    "slideshow": {
     "slide_type": "slide"
    },
    "tags": []
   },
   "source": [
    "### conda  \n",
    "\n",
    "```bash  \n",
    "\n",
    "conda install xxx  \n",
    "\n",
    "conda install xxx=1.3  \n",
    "\n",
    "```"
   ]
  },
  {
   "cell_type": "markdown",
   "metadata": {
    "collapsed": false,
    "id": "A101BF398C254839B71BCB7B73D068CE",
    "jupyter": {},
    "notebookId": "66a6dc7fff3e499c6ca2d725",
    "runtime": {
     "execution_status": null,
     "is_visible": false,
     "status": "default"
    },
    "scrolled": false,
    "slideshow": {
     "slide_type": "slide"
    },
    "tags": []
   },
   "source": [
    "## Basics"
   ]
  },
  {
   "cell_type": "markdown",
   "metadata": {
    "collapsed": false,
    "id": "ED7EFB13272345119C720CCE3E3D5225",
    "jupyter": {},
    "notebookId": "66a6dc7fff3e499c6ca2d725",
    "runtime": {
     "execution_status": null,
     "is_visible": false,
     "status": "default"
    },
    "scrolled": false,
    "slideshow": {
     "slide_type": "slide"
    },
    "tags": []
   },
   "source": [
    "### Hello world"
   ]
  },
  {
   "cell_type": "code",
   "execution_count": 1,
   "metadata": {
    "collapsed": false,
    "id": "0B660B4ABFED4B74BFE8E829984798E2",
    "jupyter": {},
    "notebookId": "66a6dc7fff3e499c6ca2d725",
    "scrolled": false,
    "slideshow": {
     "slide_type": "slide"
    },
    "tags": [],
    "trusted": true
   },
   "outputs": [
    {
     "name": "stdout",
     "output_type": "stream",
     "text": [
      "Hello, World!\n"
     ]
    }
   ],
   "source": [
    "print('Hello, World!')"
   ]
  },
  {
   "cell_type": "markdown",
   "metadata": {
    "collapsed": false,
    "id": "2A4A4838C42445038B70640B8BDE127E",
    "jupyter": {},
    "notebookId": "66a6dc7fff3e499c6ca2d725",
    "runtime": {
     "execution_status": null,
     "is_visible": false,
     "status": "default"
    },
    "scrolled": false,
    "slideshow": {
     "slide_type": "slide"
    },
    "tags": []
   },
   "source": [
    "Python uses indentation for blocks, instead of curly braces. Both tabs and spaces are supported, but the standard indentation requires standard Python code to use four spaces. For example:"
   ]
  },
  {
   "cell_type": "code",
   "execution_count": 15,
   "metadata": {
    "collapsed": false,
    "id": "5D2EE5618B3C4D9B9711F07E7A48DCC1",
    "jupyter": {},
    "notebookId": "66a6dc7fff3e499c6ca2d725",
    "scrolled": false,
    "slideshow": {
     "slide_type": "slide"
    },
    "tags": [],
    "trusted": true
   },
   "outputs": [
    {
     "name": "stdout",
     "output_type": "stream",
     "text": [
      "Be careful not to fall off!\n"
     ]
    }
   ],
   "source": [
    "# bool: 0/1 True/False\n",
    "\n",
    "the_world_is_flat = True\n",
    "a = False\n",
    "if the_world_is_flat or a:\n",
    "    print(\"Be careful not to fall off!\")"
   ]
  },
  {
   "cell_type": "markdown",
   "metadata": {
    "collapsed": false,
    "id": "00D1900D34A34CABBAC3714DFA372873",
    "jupyter": {},
    "notebookId": "66a6dc7fff3e499c6ca2d725",
    "runtime": {
     "execution_status": null,
     "is_visible": false,
     "status": "default"
    },
    "scrolled": false,
    "slideshow": {
     "slide_type": "slide"
    },
    "tags": []
   },
   "source": [
    "### Assignment"
   ]
  },
  {
   "cell_type": "markdown",
   "metadata": {
    "collapsed": false,
    "id": "53B9FB8D251940A58420E41CEC70F9B2",
    "jupyter": {},
    "notebookId": "66a6dc7fff3e499c6ca2d725",
    "runtime": {
     "execution_status": null,
     "is_visible": false,
     "status": "default"
    },
    "scrolled": false,
    "slideshow": {
     "slide_type": "slide"
    },
    "tags": []
   },
   "source": [
    "An assignment statement creates a new variable and gives it a value:"
   ]
  },
  {
   "cell_type": "code",
   "execution_count": null,
   "metadata": {
    "collapsed": false,
    "id": "5C92665A3E34465B870301D3DDD82CC9",
    "jupyter": {},
    "notebookId": "66a6dc7fff3e499c6ca2d725",
    "scrolled": false,
    "slideshow": {
     "slide_type": "slide"
    },
    "tags": [],
    "trusted": true
   },
   "outputs": [],
   "source": [
    "# string\n",
    "my_text = 'And now for something completely different'\n",
    "my_text = \"And now for something completely different\"\n",
    "my_text = \"\"\"\n",
    "\n",
    "my_text = 'And now for something completely different'\n",
    "my_text = \"And now for something completely different\"\n",
    "\n",
    "\"\"\""
   ]
  },
  {
   "cell_type": "code",
   "execution_count": 7,
   "metadata": {
    "collapsed": false,
    "id": "99694A7CC18E455B81FD8FAC79FEA758",
    "jupyter": {},
    "notebookId": "66a6dc7fff3e499c6ca2d725",
    "scrolled": false,
    "slideshow": {
     "slide_type": "slide"
    },
    "tags": [],
    "trusted": true
   },
   "outputs": [
    {
     "name": "stdout",
     "output_type": "stream",
     "text": [
      "17\n",
      "17.0\n",
      "17\n",
      "3.12\n",
      "3.12\n",
      "3\n"
     ]
    }
   ],
   "source": [
    "# int\n",
    "x = 17\n",
    "print(x)\n",
    "x = 17.\n",
    "print(x)\n",
    "x = int(x)\n",
    "print(x)\n",
    "x = float(x)\n",
    "y = \"3.12\"\n",
    "print(y)\n",
    "print(float(y))\n",
    "print(int(float(y)))"
   ]
  },
  {
   "cell_type": "code",
   "execution_count": null,
   "metadata": {
    "collapsed": false,
    "id": "1E296A1D114D4A1AB161E8F020403C93",
    "jupyter": {},
    "notebookId": "66a6dc7fff3e499c6ca2d725",
    "scrolled": false,
    "slideshow": {
     "slide_type": "slide"
    },
    "tags": [],
    "trusted": true
   },
   "outputs": [],
   "source": [
    "# float\n",
    "pi = 3.1415926535897932"
   ]
  },
  {
   "cell_type": "markdown",
   "metadata": {
    "collapsed": false,
    "id": "9C2655FAA6154EF78315B972B941E437",
    "jupyter": {},
    "notebookId": "66a6dc7fff3e499c6ca2d725",
    "runtime": {
     "execution_status": null,
     "is_visible": false,
     "status": "default"
    },
    "scrolled": false,
    "slideshow": {
     "slide_type": "slide"
    },
    "tags": []
   },
   "source": [
    "### Variable names"
   ]
  },
  {
   "cell_type": "markdown",
   "metadata": {
    "collapsed": false,
    "id": "B5C1F67CA7EF4B3683528EAAE5D94356",
    "jupyter": {},
    "notebookId": "66a6dc7fff3e499c6ca2d725",
    "runtime": {
     "execution_status": null,
     "is_visible": false,
     "status": "default"
    },
    "scrolled": false,
    "slideshow": {
     "slide_type": "slide"
    },
    "tags": []
   },
   "source": [
    "The names of variables can be as long as you like.  \n",
    "\n",
    "Both letters and numbers may be included, but they can't start with a number.  \n",
    "\n",
    "Using upper case letters is legal, but using only lower case for variable names is conventional.  \n",
    "\n",
    "The underscore character, `_`, can appear in a name. It is often used in names with multiple words, such as `your_name` or `airspeed_of_unladen_swallow`."
   ]
  },
  {
   "cell_type": "code",
   "execution_count": 8,
   "metadata": {
    "collapsed": false,
    "id": "A0D3C39B74374FCFABF074B38B398833",
    "jupyter": {},
    "notebookId": "66a6dc7fff3e499c6ca2d725",
    "scrolled": false,
    "slideshow": {
     "slide_type": "slide"
    },
    "tags": [],
    "trusted": true
   },
   "outputs": [
    {
     "ename": "SyntaxError",
     "evalue": "invalid decimal literal (3381618747.py, line 1)",
     "output_type": "error",
     "traceback": [
      "  \u001b[36mCell\u001b[39m\u001b[36m \u001b[39m\u001b[32mIn[8]\u001b[39m\u001b[32m, line 1\u001b[39m\n\u001b[31m    \u001b[39m\u001b[31m76trombones = 'big parade'\u001b[39m\n     ^\n\u001b[31mSyntaxError\u001b[39m\u001b[31m:\u001b[39m invalid decimal literal\n"
     ]
    }
   ],
   "source": [
    "76trombones = 'big parade'"
   ]
  },
  {
   "cell_type": "code",
   "execution_count": 9,
   "metadata": {
    "collapsed": false,
    "id": "B2985779CF6545DFB8C09BE7CABC01BC",
    "jupyter": {},
    "notebookId": "66a6dc7fff3e499c6ca2d725",
    "scrolled": false,
    "slideshow": {
     "slide_type": "slide"
    },
    "tags": [],
    "trusted": true
   },
   "outputs": [
    {
     "ename": "FileNotFoundError",
     "evalue": "[Errno 2] No such file or directory: '@ = 1000000'",
     "output_type": "error",
     "traceback": [
      "\u001b[31m---------------------------------------------------------------------------\u001b[39m",
      "\u001b[31mFileNotFoundError\u001b[39m                         Traceback (most recent call last)",
      "\u001b[36mCell\u001b[39m\u001b[36m \u001b[39m\u001b[32mIn[9]\u001b[39m\u001b[32m, line 1\u001b[39m\n\u001b[32m----> \u001b[39m\u001b[32m1\u001b[39m \u001b[43mget_ipython\u001b[49m\u001b[43m(\u001b[49m\u001b[43m)\u001b[49m\u001b[43m.\u001b[49m\u001b[43mrun_line_magic\u001b[49m\u001b[43m(\u001b[49m\u001b[33;43m'\u001b[39;49m\u001b[33;43mmore\u001b[39;49m\u001b[33;43m'\u001b[39;49m\u001b[43m,\u001b[49m\u001b[43m \u001b[49m\u001b[33;43m'\u001b[39;49m\u001b[33;43m@ = 1000000\u001b[39;49m\u001b[33;43m'\u001b[39;49m\u001b[43m)\u001b[49m\n",
      "\u001b[36mFile \u001b[39m\u001b[32m~/anaconda3/envs/HiMCM/lib/python3.12/site-packages/IPython/core/interactiveshell.py:2504\u001b[39m, in \u001b[36mInteractiveShell.run_line_magic\u001b[39m\u001b[34m(self, magic_name, line, _stack_depth)\u001b[39m\n\u001b[32m   2502\u001b[39m     kwargs[\u001b[33m'\u001b[39m\u001b[33mlocal_ns\u001b[39m\u001b[33m'\u001b[39m] = \u001b[38;5;28mself\u001b[39m.get_local_scope(stack_depth)\n\u001b[32m   2503\u001b[39m \u001b[38;5;28;01mwith\u001b[39;00m \u001b[38;5;28mself\u001b[39m.builtin_trap:\n\u001b[32m-> \u001b[39m\u001b[32m2504\u001b[39m     result = \u001b[43mfn\u001b[49m\u001b[43m(\u001b[49m\u001b[43m*\u001b[49m\u001b[43margs\u001b[49m\u001b[43m,\u001b[49m\u001b[43m \u001b[49m\u001b[43m*\u001b[49m\u001b[43m*\u001b[49m\u001b[43mkwargs\u001b[49m\u001b[43m)\u001b[49m\n\u001b[32m   2506\u001b[39m \u001b[38;5;66;03m# The code below prevents the output from being displayed\u001b[39;00m\n\u001b[32m   2507\u001b[39m \u001b[38;5;66;03m# when using magics with decorator @output_can_be_silenced\u001b[39;00m\n\u001b[32m   2508\u001b[39m \u001b[38;5;66;03m# when the last Python token in the expression is a ';'.\u001b[39;00m\n\u001b[32m   2509\u001b[39m \u001b[38;5;28;01mif\u001b[39;00m \u001b[38;5;28mgetattr\u001b[39m(fn, magic.MAGIC_OUTPUT_CAN_BE_SILENCED, \u001b[38;5;28;01mFalse\u001b[39;00m):\n",
      "\u001b[36mFile \u001b[39m\u001b[32m~/anaconda3/envs/HiMCM/lib/python3.12/site-packages/ipykernel/zmqshell.py:342\u001b[39m, in \u001b[36mKernelMagics.less\u001b[39m\u001b[34m(self, arg_s)\u001b[39m\n\u001b[32m    340\u001b[39m     cont = \u001b[38;5;28mself\u001b[39m.shell.pycolorize(openpy.read_py_file(arg_s, skip_encoding_cookie=\u001b[38;5;28;01mFalse\u001b[39;00m))\n\u001b[32m    341\u001b[39m \u001b[38;5;28;01melse\u001b[39;00m:\n\u001b[32m--> \u001b[39m\u001b[32m342\u001b[39m     \u001b[38;5;28;01mwith\u001b[39;00m \u001b[38;5;28;43mopen\u001b[39;49m\u001b[43m(\u001b[49m\u001b[43marg_s\u001b[49m\u001b[43m)\u001b[49m \u001b[38;5;28;01mas\u001b[39;00m fid:\n\u001b[32m    343\u001b[39m         cont = fid.read()\n\u001b[32m    344\u001b[39m page.page(cont)\n",
      "\u001b[31mFileNotFoundError\u001b[39m: [Errno 2] No such file or directory: '@ = 1000000'"
     ]
    }
   ],
   "source": [
    "more@ = 1000000"
   ]
  },
  {
   "cell_type": "code",
   "execution_count": 12,
   "metadata": {
    "collapsed": false,
    "id": "940CE94C86394E9A8B4EDE27C4AE9AE0",
    "jupyter": {},
    "notebookId": "66a6dc7fff3e499c6ca2d725",
    "scrolled": false,
    "slideshow": {
     "slide_type": "slide"
    },
    "tags": [],
    "trusted": true
   },
   "outputs": [
    {
     "ename": "SyntaxError",
     "evalue": "invalid syntax (3803549429.py, line 1)",
     "output_type": "error",
     "traceback": [
      "  \u001b[36mCell\u001b[39m\u001b[36m \u001b[39m\u001b[32mIn[12]\u001b[39m\u001b[32m, line 1\u001b[39m\n\u001b[31m    \u001b[39m\u001b[31mclass = 'Advanced Theoretical Zymurgy'\u001b[39m\n          ^\n\u001b[31mSyntaxError\u001b[39m\u001b[31m:\u001b[39m invalid syntax\n"
     ]
    }
   ],
   "source": [
    "class = 'Advanced Theoretical Zymurgy'"
   ]
  },
  {
   "cell_type": "markdown",
   "metadata": {
    "collapsed": false,
    "id": "4374876B911A4B14AE68627AEEF65895",
    "jupyter": {},
    "notebookId": "66a6dc7fff3e499c6ca2d725",
    "runtime": {
     "execution_status": null,
     "is_visible": false,
     "status": "default"
    },
    "scrolled": false,
    "slideshow": {
     "slide_type": "slide"
    },
    "tags": []
   },
   "source": [
    "`class` is one of Python’s keywords. The interpreter uses keywords to recognize the structure of the program, and they cannot be used as variable names.  \n",
    "\n",
    "Python 3 has these keywords:"
   ]
  },
  {
   "cell_type": "markdown",
   "metadata": {
    "collapsed": false,
    "id": "29743768A42948B680660DFF7172AA76",
    "jupyter": {},
    "notebookId": "66a6dc7fff3e499c6ca2d725",
    "runtime": {
     "execution_status": null,
     "is_visible": false,
     "status": "default"
    },
    "scrolled": false,
    "slideshow": {
     "slide_type": "slide"
    },
    "tags": []
   },
   "source": [
    "| Keyword  | Description                                                  |  \n",
    "| :------- | :----------------------------------------------------------- |  \n",
    "| and      | A logical operator                                           |  \n",
    "| as       | To create an alias                                           |  \n",
    "| assert   | For debugging                                                |  \n",
    "| break    | To break out of a loop                                       |  \n",
    "| class    | To define a class                                            |  \n",
    "| continue | To continue to the next iteration of a loop                  |  \n",
    "| def      | To define a function                                         |  \n",
    "| del      | To delete an object                                          |  \n",
    "| elif     | Used in conditional statements, same as else if              |  \n",
    "| else     | Used in conditional statements                               |  \n",
    "| except   | Used with exceptions, what to do when an exception occurs    |  \n",
    "| False    | Boolean value, result of comparison operations               |  \n",
    "| finally  | Used with exceptions, a block of code that will be executed no matter if there is an exception or not |  \n",
    "| for      | To create a for loop                                         |  \n",
    "| from     | To import specific parts of a module                         |  \n",
    "| global   | To declare a global variable                                 |  \n",
    "| if       | To make a conditional statement                              |  \n",
    "| import   | To import a module                                           |  \n",
    "| in       | To check if a value is present in a list, tuple, etc.        |  \n",
    "| is       | To test if two variables are equal                           |  \n",
    "| lambda   | To create an anonymous function                              |  \n",
    "| None     | Represents a null value                                      |  \n",
    "| nonlocal | To declare a non-local variable                              |  \n",
    "| not      | A logical operator                                           |  \n",
    "| or       | A logical operator                                           |  \n",
    "| pass     | A null statement, a statement that will do nothing           |  \n",
    "| raise    | To raise an exception                                        |  \n",
    "| return   | To exit a function and return a value                        |  \n",
    "| True     | Boolean value, result of comparison operations               |  \n",
    "| try      | To make a try...except statement                             |  \n",
    "| while    | To create a while loop                                       |  \n",
    "| with     | Used to simplify exception handling                          |  \n",
    "| yield    | To end a function, returns a generator                       |  \n"
   ]
  },
  {
   "cell_type": "markdown",
   "metadata": {
    "collapsed": false,
    "id": "CEDA2B1728DD4642B06D3CEDD34CD4D7",
    "jupyter": {},
    "notebookId": "66a6dc7fff3e499c6ca2d725",
    "runtime": {
     "execution_status": null,
     "is_visible": false,
     "status": "default"
    },
    "scrolled": false,
    "slideshow": {
     "slide_type": "slide"
    },
    "tags": []
   },
   "source": [
    "### Multiple assignment"
   ]
  },
  {
   "cell_type": "markdown",
   "metadata": {
    "collapsed": false,
    "id": "C8A07AFB65804F1E969C3786BCB404D5",
    "jupyter": {},
    "notebookId": "66a6dc7fff3e499c6ca2d725",
    "runtime": {
     "execution_status": null,
     "is_visible": false,
     "status": "default"
    },
    "scrolled": false,
    "slideshow": {
     "slide_type": "slide"
    },
    "tags": []
   },
   "source": [
    "Python allows you to assign a single value to several variables simultaneously."
   ]
  },
  {
   "cell_type": "code",
   "execution_count": 16,
   "metadata": {
    "collapsed": false,
    "id": "B05C75E3D3524131B064130D9034B281",
    "jupyter": {},
    "notebookId": "66a6dc7fff3e499c6ca2d725",
    "scrolled": false,
    "slideshow": {
     "slide_type": "slide"
    },
    "tags": [],
    "trusted": true
   },
   "outputs": [
    {
     "data": {
      "text/plain": [
       "(1, 1, 1)"
      ]
     },
     "execution_count": 16,
     "metadata": {},
     "output_type": "execute_result"
    }
   ],
   "source": [
    "a = b = c = 1\n",
    "a,b,c"
   ]
  },
  {
   "cell_type": "markdown",
   "metadata": {
    "collapsed": false,
    "id": "D5EB4EB2B86442A5ADF9B55A8E83A66D",
    "jupyter": {},
    "notebookId": "66a6dc7fff3e499c6ca2d725",
    "runtime": {
     "execution_status": null,
     "is_visible": false,
     "status": "default"
    },
    "scrolled": false,
    "slideshow": {
     "slide_type": "slide"
    },
    "tags": []
   },
   "source": [
    "You can also assign multiple objects to multiple variables. "
   ]
  },
  {
   "cell_type": "code",
   "execution_count": 17,
   "metadata": {
    "collapsed": false,
    "id": "BE8E11A47EF24BDC85D2A77266FC4C80",
    "jupyter": {},
    "notebookId": "66a6dc7fff3e499c6ca2d725",
    "scrolled": false,
    "slideshow": {
     "slide_type": "slide"
    },
    "tags": [],
    "trusted": true
   },
   "outputs": [
    {
     "data": {
      "text/plain": [
       "(1, 2, 'john')"
      ]
     },
     "execution_count": 17,
     "metadata": {},
     "output_type": "execute_result"
    }
   ],
   "source": [
    "a, b, c = 1, 2, \"john\"\n",
    "a, b, c"
   ]
  },
  {
   "cell_type": "markdown",
   "metadata": {
    "collapsed": false,
    "id": "55CB5EE17DEC4405A8B14047945C9050",
    "jupyter": {},
    "notebookId": "66a6dc7fff3e499c6ca2d725",
    "runtime": {
     "execution_status": null,
     "is_visible": false,
     "status": "default"
    },
    "scrolled": false,
    "slideshow": {
     "slide_type": "slide"
    },
    "tags": []
   },
   "source": [
    "### Augmented assignment"
   ]
  },
  {
   "cell_type": "markdown",
   "metadata": {
    "collapsed": false,
    "id": "02DD1E7BD008485D82CA6784F0EB8213",
    "jupyter": {},
    "notebookId": "66a6dc7fff3e499c6ca2d725",
    "runtime": {
     "execution_status": null,
     "is_visible": false,
     "status": "default"
    },
    "scrolled": false,
    "slideshow": {
     "slide_type": "slide"
    },
    "tags": []
   },
   "source": [
    "PEP 577 -- Augmented Assignment Expressions  \n",
    "\n",
    "- https://www.python.org/dev/peps/pep-0577/"
   ]
  },
  {
   "cell_type": "code",
   "execution_count": 18,
   "metadata": {
    "collapsed": false,
    "id": "E4688064695F4E699D05B0D03CA6030C",
    "jupyter": {},
    "notebookId": "66a6dc7fff3e499c6ca2d725",
    "scrolled": false,
    "slideshow": {
     "slide_type": "slide"
    },
    "tags": [],
    "trusted": true
   },
   "outputs": [],
   "source": [
    "n = 0"
   ]
  },
  {
   "cell_type": "code",
   "execution_count": null,
   "metadata": {
    "collapsed": false,
    "id": "7F9B998F5DC245EBA98C3FE1F7C18034",
    "jupyter": {},
    "notebookId": "66a6dc7fff3e499c6ca2d725",
    "scrolled": false,
    "slideshow": {
     "slide_type": "slide"
    },
    "tags": [],
    "trusted": true
   },
   "outputs": [
    {
     "data": {
      "text/plain": [
       "5"
      ]
     },
     "execution_count": 19,
     "metadata": {},
     "output_type": "execute_result"
    }
   ],
   "source": [
    "n += 5\n",
    "n"
   ]
  },
  {
   "cell_type": "code",
   "execution_count": 21,
   "id": "b80f7c42",
   "metadata": {},
   "outputs": [
    {
     "data": {
      "text/plain": [
       "10"
      ]
     },
     "execution_count": 21,
     "metadata": {},
     "output_type": "execute_result"
    }
   ],
   "source": [
    "n = n + 5\n",
    "n"
   ]
  },
  {
   "cell_type": "code",
   "execution_count": 22,
   "metadata": {
    "collapsed": false,
    "id": "2B5BBE1932F443BFA3EAF0FD3EEFFA1B",
    "jupyter": {},
    "notebookId": "66a6dc7fff3e499c6ca2d725",
    "scrolled": false,
    "slideshow": {
     "slide_type": "slide"
    },
    "tags": [],
    "trusted": true
   },
   "outputs": [
    {
     "data": {
      "text/plain": [
       "8"
      ]
     },
     "execution_count": 22,
     "metadata": {},
     "output_type": "execute_result"
    }
   ],
   "source": [
    "n -= 2\n",
    "# n = n-2\n",
    "n"
   ]
  },
  {
   "cell_type": "code",
   "execution_count": 23,
   "metadata": {
    "collapsed": false,
    "id": "F6E2C61B9FCF4C048A70579F9FB350FF",
    "jupyter": {},
    "notebookId": "66a6dc7fff3e499c6ca2d725",
    "scrolled": false,
    "slideshow": {
     "slide_type": "slide"
    },
    "tags": [],
    "trusted": true
   },
   "outputs": [
    {
     "data": {
      "text/plain": [
       "24"
      ]
     },
     "execution_count": 23,
     "metadata": {},
     "output_type": "execute_result"
    }
   ],
   "source": [
    "n *= 3\n",
    "# n = n * 3\n",
    "n"
   ]
  },
  {
   "cell_type": "code",
   "execution_count": 25,
   "id": "7ee8b650",
   "metadata": {},
   "outputs": [
    {
     "data": {
      "text/plain": [
       "True"
      ]
     },
     "execution_count": 25,
     "metadata": {},
     "output_type": "execute_result"
    }
   ],
   "source": [
    "a=1\n",
    "b=1\n",
    "a==b"
   ]
  },
  {
   "cell_type": "code",
   "execution_count": 26,
   "id": "a460c0be",
   "metadata": {},
   "outputs": [
    {
     "data": {
      "text/plain": [
       "1"
      ]
     },
     "execution_count": 26,
     "metadata": {},
     "output_type": "execute_result"
    }
   ],
   "source": [
    "10 % 3 "
   ]
  },
  {
   "cell_type": "code",
   "execution_count": null,
   "id": "63030c6a",
   "metadata": {},
   "outputs": [
    {
     "data": {
      "text/plain": [
       "8"
      ]
     },
     "execution_count": 29,
     "metadata": {},
     "output_type": "execute_result"
    }
   ],
   "source": [
    "2**2\n",
    "pow(2,3)"
   ]
  },
  {
   "cell_type": "code",
   "execution_count": 32,
   "id": "12ae4261",
   "metadata": {},
   "outputs": [
    {
     "data": {
      "text/plain": [
       "3"
      ]
     },
     "execution_count": 32,
     "metadata": {},
     "output_type": "execute_result"
    }
   ],
   "source": [
    "10//3"
   ]
  },
  {
   "cell_type": "markdown",
   "metadata": {
    "collapsed": false,
    "id": "B7FDC3F9D11E480788355A55ED565158",
    "jupyter": {},
    "notebookId": "66a6dc7fff3e499c6ca2d725",
    "runtime": {
     "execution_status": null,
     "is_visible": false,
     "status": "default"
    },
    "scrolled": false,
    "slideshow": {
     "slide_type": "slide"
    },
    "tags": []
   },
   "source": [
    "| 运算符 | 描述             | 实例                                  |  \n",
    "| :----- | :--------------- | :------------------------------------ |  \n",
    "| =      | 简单的赋值运算符 | c = a + b 将 a + b 的运算结果赋值为 c |  \n",
    "| +=     | 加法赋值运算符   | c += a 等效于 c = c + a               |  \n",
    "| -=     | 减法赋值运算符   | c -= a 等效于 c = c - a               |  \n",
    "| *=     | 乘法赋值运算符   | c *= a 等效于 c = c * a               |  \n",
    "| /=     | 除法赋值运算符   | c /= a 等效于 c = c / a               |  \n",
    "| %=     | 取模赋值运算符   | c %= a 等效于 c = c % a               |  \n",
    "| **=    | 幂赋值运算符     | c **= a 等效于 c = c ** a             |  \n",
    "| //=    | 取整除赋值运算符 | c //= a 等效于 c = c // a             |  \n",
    "\n"
   ]
  },
  {
   "cell_type": "markdown",
   "metadata": {
    "collapsed": false,
    "id": "E84FFE9BF27E4D4496C216B7B00C2897",
    "jupyter": {},
    "notebookId": "66a6dc7fff3e499c6ca2d725",
    "runtime": {
     "execution_status": null,
     "is_visible": false,
     "status": "default"
    },
    "scrolled": false,
    "slideshow": {
     "slide_type": "slide"
    },
    "tags": []
   },
   "source": [
    "### `if` statements"
   ]
  },
  {
   "cell_type": "markdown",
   "metadata": {
    "collapsed": false,
    "id": "01F8E658B06C4AB0ADA1559664A95CEF",
    "jupyter": {},
    "notebookId": "66a6dc7fff3e499c6ca2d725",
    "runtime": {
     "execution_status": null,
     "is_visible": false,
     "status": "default"
    },
    "scrolled": false,
    "slideshow": {
     "slide_type": "slide"
    },
    "tags": []
   },
   "source": [
    "if语句用来做判断，并选择要执行的语句分支。基本格式如下：  \n",
    "\n",
    "```python  \n",
    "\n",
    "if CONDITION1:  \n",
    "    code_block(1)  \n",
    "elif CONDITION2:  \n",
    "    code_block(2)  \n",
    "elif CONDITION3:  \n",
    "    ...  \n",
    "...  \n",
    "else:  \n",
    "    code_block_else  \n",
    "```\n",
    "\n",
    "其中elif是可选的，可以有任意多个，else是可选的，表示全都不满足条件时该执行的分支。"
   ]
  },
  {
   "cell_type": "code",
   "execution_count": null,
   "id": "c3ac0795",
   "metadata": {},
   "outputs": [],
   "source": [
    "elif = else if"
   ]
  },
  {
   "cell_type": "code",
   "execution_count": 33,
   "metadata": {
    "collapsed": false,
    "id": "1D0D8283C5374BB3B6A2487A1195A386",
    "jupyter": {},
    "notebookId": "66a6dc7fff3e499c6ca2d725",
    "scrolled": false,
    "slideshow": {
     "slide_type": "slide"
    },
    "tags": [],
    "trusted": true
   },
   "outputs": [
    {
     "name": "stdout",
     "output_type": "stream",
     "text": [
      "hello world\n"
     ]
    }
   ],
   "source": [
    "a = 4\n",
    "if a > 3:\n",
    "    print(\"hello world\")"
   ]
  },
  {
   "cell_type": "code",
   "execution_count": 34,
   "metadata": {
    "collapsed": false,
    "id": "9872F14AA7C04D67A9EFDBD568055D96",
    "jupyter": {},
    "notebookId": "66a6dc7fff3e499c6ca2d725",
    "scrolled": false,
    "slideshow": {
     "slide_type": "slide"
    },
    "tags": [],
    "trusted": true
   },
   "outputs": [
    {
     "name": "stdout",
     "output_type": "stream",
     "text": [
      "良好\n"
     ]
    }
   ],
   "source": [
    "score = 77\n",
    "\n",
    "if score >= 90:\n",
    "    print(\"优秀\")\n",
    "elif 70 <= score < 90:\n",
    "    print(\"良好\")\n",
    "elif 60 <= score < 70:\n",
    "    print(\"及格\")\n",
    "else:\n",
    "    print(\"不及格\")"
   ]
  },
  {
   "cell_type": "markdown",
   "metadata": {
    "collapsed": false,
    "id": "07083033D7DF402CBC827A8AEF9B171F",
    "jupyter": {},
    "notebookId": "66a6dc7fff3e499c6ca2d725",
    "runtime": {
     "execution_status": null,
     "is_visible": false,
     "status": "default"
    },
    "scrolled": false,
    "slideshow": {
     "slide_type": "slide"
    },
    "tags": []
   },
   "source": [
    "### Loop statements"
   ]
  },
  {
   "cell_type": "markdown",
   "metadata": {
    "collapsed": false,
    "id": "C488E08CE70241D389BE2773EA7A4D3C",
    "jupyter": {},
    "notebookId": "66a6dc7fff3e499c6ca2d725",
    "runtime": {
     "execution_status": null,
     "is_visible": false,
     "status": "default"
    },
    "scrolled": false,
    "slideshow": {
     "slide_type": "slide"
    },
    "tags": []
   },
   "source": [
    "#### Iterator  \n",
    "\n",
    "迭代是Python最强大的功能之一，是访问集合元素的一种方式。  \n",
    "\n",
    "迭代器是一个可以记住遍历的位置的对象。  \n",
    "\n",
    "迭代器对象从集合的第一个元素开始访问，直到所有的元素被访问完结束。迭代器只能往前不会后退。  \n",
    "\n",
    "迭代器有两个基本的方法：`iter()` 和 `next()`。"
   ]
  },
  {
   "cell_type": "code",
   "execution_count": null,
   "metadata": {
    "collapsed": false,
    "id": "14C47F66C76D4354A0EAADC7B9DFD1E0",
    "jupyter": {},
    "notebookId": "66a6dc7fff3e499c6ca2d725",
    "scrolled": false,
    "slideshow": {
     "slide_type": "slide"
    },
    "tags": [],
    "trusted": true
   },
   "outputs": [],
   "source": [
    "a_string = 'abcde'\n",
    "a_string_iter = iter(a_string)"
   ]
  },
  {
   "cell_type": "code",
   "execution_count": 36,
   "metadata": {
    "collapsed": false,
    "id": "8E17F67A896D43E39472069101483FF6",
    "jupyter": {},
    "notebookId": "66a6dc7fff3e499c6ca2d725",
    "scrolled": false,
    "slideshow": {
     "slide_type": "slide"
    },
    "tags": [],
    "trusted": true
   },
   "outputs": [
    {
     "data": {
      "text/plain": [
       "'a'"
      ]
     },
     "execution_count": 36,
     "metadata": {},
     "output_type": "execute_result"
    }
   ],
   "source": [
    "next(a_string_iter)"
   ]
  },
  {
   "cell_type": "code",
   "execution_count": 39,
   "metadata": {
    "collapsed": false,
    "id": "B82DBB79989D44C39F22DDF093EE5879",
    "jupyter": {},
    "notebookId": "66a6dc7fff3e499c6ca2d725",
    "scrolled": false,
    "slideshow": {
     "slide_type": "slide"
    },
    "tags": [],
    "trusted": true
   },
   "outputs": [
    {
     "data": {
      "text/plain": [
       "'d'"
      ]
     },
     "execution_count": 39,
     "metadata": {},
     "output_type": "execute_result"
    }
   ],
   "source": [
    "next(a_string_iter)"
   ]
  },
  {
   "cell_type": "markdown",
   "metadata": {
    "collapsed": false,
    "id": "C0A5C671AA4F40D497D83199643B7857",
    "jupyter": {},
    "notebookId": "66a6dc7fff3e499c6ca2d725",
    "runtime": {
     "execution_status": null,
     "is_visible": false,
     "status": "default"
    },
    "scrolled": false,
    "slideshow": {
     "slide_type": "slide"
    },
    "tags": []
   },
   "source": [
    "#### `for` statement"
   ]
  },
  {
   "cell_type": "code",
   "execution_count": 40,
   "metadata": {
    "collapsed": false,
    "id": "52B3BB764E6E45AC895DFB50F75AA126",
    "jupyter": {},
    "notebookId": "66a6dc7fff3e499c6ca2d725",
    "scrolled": false,
    "slideshow": {
     "slide_type": "slide"
    },
    "tags": [],
    "trusted": true
   },
   "outputs": [
    {
     "name": "stdout",
     "output_type": "stream",
     "text": [
      "x\n",
      "i\n",
      "a\n",
      "o\n",
      "f\n",
      "a\n",
      "n\n",
      "g\n"
     ]
    }
   ],
   "source": [
    "for i in 'xiaofang':\n",
    "    print(i)"
   ]
  },
  {
   "cell_type": "code",
   "execution_count": 41,
   "metadata": {
    "collapsed": false,
    "id": "E87AE4223D1F4FD38B7B430697FC69DA",
    "jupyter": {},
    "notebookId": "66a6dc7fff3e499c6ca2d725",
    "scrolled": false,
    "slideshow": {
     "slide_type": "slide"
    },
    "tags": [],
    "trusted": true
   },
   "outputs": [
    {
     "name": "stdout",
     "output_type": "stream",
     "text": [
      "a\n",
      "a\n",
      "b\n",
      "b\n",
      "c\n",
      "c\n"
     ]
    }
   ],
   "source": [
    "L = [\"aa\", \"bb\", \"cc\"]\n",
    "\n",
    "for i in L:\n",
    "    for j in i:\n",
    "        print(j)"
   ]
  },
  {
   "cell_type": "markdown",
   "metadata": {
    "collapsed": false,
    "id": "FFDCFFD50E6A4DD59BC5582D50910C82",
    "jupyter": {},
    "notebookId": "66a6dc7fff3e499c6ca2d725",
    "runtime": {
     "execution_status": null,
     "is_visible": false,
     "status": "default"
    },
    "scrolled": false,
    "slideshow": {
     "slide_type": "slide"
    },
    "tags": []
   },
   "source": [
    "#### `range()`"
   ]
  },
  {
   "cell_type": "code",
   "execution_count": 42,
   "metadata": {
    "collapsed": false,
    "id": "488B76B429F0409CB4E04CCD95789020",
    "jupyter": {},
    "notebookId": "66a6dc7fff3e499c6ca2d725",
    "scrolled": false,
    "slideshow": {
     "slide_type": "slide"
    },
    "tags": [],
    "trusted": true
   },
   "outputs": [
    {
     "name": "stdout",
     "output_type": "stream",
     "text": [
      "0\n",
      "1\n",
      "2\n",
      "3\n",
      "4\n"
     ]
    }
   ],
   "source": [
    "for i in range(5):\n",
    "    print(i)"
   ]
  },
  {
   "cell_type": "code",
   "execution_count": 43,
   "metadata": {
    "collapsed": false,
    "id": "B09F183589C54E73B718E9072AA3852C",
    "jupyter": {},
    "notebookId": "66a6dc7fff3e499c6ca2d725",
    "scrolled": false,
    "slideshow": {
     "slide_type": "slide"
    },
    "tags": [],
    "trusted": true
   },
   "outputs": [
    {
     "name": "stdout",
     "output_type": "stream",
     "text": [
      "1\n",
      "2\n",
      "3\n",
      "4\n"
     ]
    }
   ],
   "source": [
    "for i in range(1, 5):\n",
    "    print(i)"
   ]
  },
  {
   "cell_type": "code",
   "execution_count": 44,
   "metadata": {
    "collapsed": false,
    "id": "EEB34528214E45A987979981E9434C5C",
    "jupyter": {},
    "notebookId": "66a6dc7fff3e499c6ca2d725",
    "scrolled": false,
    "slideshow": {
     "slide_type": "slide"
    },
    "tags": [],
    "trusted": true
   },
   "outputs": [
    {
     "name": "stdout",
     "output_type": "stream",
     "text": [
      "1\n",
      "3\n"
     ]
    }
   ],
   "source": [
    "for i in range(1, 5, 2):\n",
    "    print(i)"
   ]
  },
  {
   "cell_type": "markdown",
   "metadata": {
    "collapsed": false,
    "id": "A30982E6CC124ABE8EFBF5E3C10EEA23",
    "jupyter": {},
    "notebookId": "66a6dc7fff3e499c6ca2d725",
    "runtime": {
     "execution_status": null,
     "is_visible": false,
     "status": "default"
    },
    "scrolled": false,
    "slideshow": {
     "slide_type": "slide"
    },
    "tags": []
   },
   "source": [
    "#### `while` statement"
   ]
  },
  {
   "cell_type": "code",
   "execution_count": 45,
   "metadata": {
    "collapsed": false,
    "id": "34C0E45AD5034AB497BB004B09D4B786",
    "jupyter": {},
    "notebookId": "66a6dc7fff3e499c6ca2d725",
    "scrolled": false,
    "slideshow": {
     "slide_type": "slide"
    },
    "tags": [],
    "trusted": true
   },
   "outputs": [
    {
     "name": "stdout",
     "output_type": "stream",
     "text": [
      "0\n",
      "1\n",
      "2\n",
      "3\n",
      "4\n",
      "5\n"
     ]
    }
   ],
   "source": [
    "x = 0\n",
    "print(x)\n",
    "\n",
    "while(x<5):\n",
    "    x += 1\n",
    "    print(x)\n"
   ]
  },
  {
   "cell_type": "markdown",
   "metadata": {
    "collapsed": false,
    "id": "148FA50A270F4E018F9CD81FDEC589CE",
    "jupyter": {},
    "notebookId": "66a6dc7fff3e499c6ca2d725",
    "runtime": {
     "execution_status": null,
     "is_visible": false,
     "status": "default"
    },
    "scrolled": false,
    "slideshow": {
     "slide_type": "slide"
    },
    "tags": []
   },
   "source": [
    "#### `break`  \n",
    "\n",
    "`break` will let you jump out of the of the loop. This is very useful with along with an `if` to for when you don't know exactly when you want to stop, but you know the condition."
   ]
  },
  {
   "cell_type": "code",
   "execution_count": 46,
   "metadata": {
    "collapsed": false,
    "id": "F27E3839A4A84525A36173FBADA28356",
    "jupyter": {},
    "notebookId": "66a6dc7fff3e499c6ca2d725",
    "scrolled": false,
    "slideshow": {
     "slide_type": "slide"
    },
    "tags": [],
    "trusted": true
   },
   "outputs": [
    {
     "name": "stdout",
     "output_type": "stream",
     "text": [
      "7\n",
      "21\n"
     ]
    }
   ],
   "source": [
    "#let's sum all integers until the total is more than 20\n",
    "\n",
    "i = 1\n",
    "total = 0\n",
    "\n",
    "while True:\n",
    "    total += i\n",
    "    i += 1\n",
    "    if total > 20:\n",
    "        break\n",
    "        \n",
    "print(i)\n",
    "print(total)"
   ]
  },
  {
   "cell_type": "markdown",
   "metadata": {
    "collapsed": false,
    "id": "30B5C0055354464695A79C2046681295",
    "jupyter": {},
    "notebookId": "66a6dc7fff3e499c6ca2d725",
    "runtime": {
     "execution_status": null,
     "is_visible": false,
     "status": "default"
    },
    "scrolled": false,
    "slideshow": {
     "slide_type": "slide"
    },
    "tags": []
   },
   "source": [
    "#### `continue`  \n",
    "\n",
    "`continue` allows you to skip the rest of the code within the loop, and jump to the next iteration. This is useful with an `if` statement to skip particular iterations defined by some condition"
   ]
  },
  {
   "cell_type": "code",
   "execution_count": 47,
   "metadata": {
    "collapsed": false,
    "id": "A005E6E269AB4545B9A1456EE6A4C58E",
    "jupyter": {},
    "notebookId": "66a6dc7fff3e499c6ca2d725",
    "scrolled": false,
    "slideshow": {
     "slide_type": "slide"
    },
    "tags": [],
    "trusted": true
   },
   "outputs": [
    {
     "name": "stdout",
     "output_type": "stream",
     "text": [
      "0\n",
      "3\n",
      "6\n",
      "9\n",
      "12\n",
      "15\n",
      "18\n",
      "\n",
      "\n",
      "127\n"
     ]
    }
   ],
   "source": [
    "# Let's sum all integers less than 20, but skipping multiples of 3\n",
    "\n",
    "total = 0\n",
    "\n",
    "for i in range(20):\n",
    "    if i % 3 == 0:\n",
    "        print(i)\n",
    "        continue\n",
    "    total += i\n",
    "    \n",
    "print('\\n')\n",
    "print(total)"
   ]
  },
  {
   "cell_type": "code",
   "execution_count": null,
   "id": "e65b9d8e",
   "metadata": {},
   "outputs": [],
   "source": []
  }
 ],
 "metadata": {
  "kernelspec": {
   "display_name": "HiMCM",
   "language": "python",
   "name": "python3"
  },
  "language_info": {
   "codemirror_mode": {
    "name": "ipython",
    "version": 3
   },
   "file_extension": ".py",
   "mimetype": "text/x-python",
   "name": "python",
   "nbconvert_exporter": "python",
   "pygments_lexer": "ipython3",
   "version": "3.12.9"
  }
 },
 "nbformat": 4,
 "nbformat_minor": 5
}
